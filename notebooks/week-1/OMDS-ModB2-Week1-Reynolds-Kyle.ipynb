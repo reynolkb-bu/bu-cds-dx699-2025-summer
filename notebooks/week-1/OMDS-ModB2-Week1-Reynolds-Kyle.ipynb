{
 "cells": [
  {
   "cell_type": "markdown",
   "id": "48a74b5e-5180-4544-86a0-b047a877eb8e",
   "metadata": {},
   "source": [
    "# Week 1 - Preprocessing\n",
    "\n",
    "## Please run the cells of the notebook as you get to them while reading"
   ]
  },
  {
   "cell_type": "code",
   "id": "5c24f12c-b364-40f0-b295-7c1ba88be680",
   "metadata": {
    "ExecuteTime": {
     "end_time": "2025-05-17T16:09:23.960103Z",
     "start_time": "2025-05-17T16:09:23.958089Z"
    }
   },
   "source": [
    "import pandas as pd\n",
    "import numpy as np\n",
    "from datetime import datetime, timedelta"
   ],
   "outputs": [],
   "execution_count": 2
  },
  {
   "cell_type": "markdown",
   "id": "23c513ee-9d2b-408f-bbcd-33fa70a299e8",
   "metadata": {},
   "source": [
    "# 1. Lesson on how to search for Python commands\n",
    "\n",
    "Let's consider a few possible ways to learn about Python programming.  Let's suppose you want to learn how to produce a short summary of the information in your DataFrame.\n",
    "\n",
    "1. Your **instructor** could provide the information.\n",
    "\n",
    "You could be provided with a lesson about functions like info() and describe().  If you have a pandas DataFrame called df, then you can summarize its contents using df.info() or df.describe().  df.info() provides a list of column names with their counts and data types.  df.describe() will provide information such as the mean, min, max, standard deviation, and quantiles.  Thus:"
   ]
  },
  {
   "cell_type": "code",
   "id": "33d97ef1-f92d-45a1-89e6-efea4d42ba75",
   "metadata": {
    "ExecuteTime": {
     "end_time": "2025-05-13T11:43:15.869944Z",
     "start_time": "2025-05-13T11:43:15.855461Z"
    }
   },
   "source": [
    "df = pd.DataFrame([[1, 4], [2, 5], [3, 6], [4, 7]], columns = ['A', 'B'])\n",
    "df.describe()"
   ],
   "outputs": [
    {
     "data": {
      "text/plain": [
       "              A         B\n",
       "count  4.000000  4.000000\n",
       "mean   2.500000  5.500000\n",
       "std    1.290994  1.290994\n",
       "min    1.000000  4.000000\n",
       "25%    1.750000  4.750000\n",
       "50%    2.500000  5.500000\n",
       "75%    3.250000  6.250000\n",
       "max    4.000000  7.000000"
      ],
      "text/html": [
       "<div>\n",
       "<style scoped>\n",
       "    .dataframe tbody tr th:only-of-type {\n",
       "        vertical-align: middle;\n",
       "    }\n",
       "\n",
       "    .dataframe tbody tr th {\n",
       "        vertical-align: top;\n",
       "    }\n",
       "\n",
       "    .dataframe thead th {\n",
       "        text-align: right;\n",
       "    }\n",
       "</style>\n",
       "<table border=\"1\" class=\"dataframe\">\n",
       "  <thead>\n",
       "    <tr style=\"text-align: right;\">\n",
       "      <th></th>\n",
       "      <th>A</th>\n",
       "      <th>B</th>\n",
       "    </tr>\n",
       "  </thead>\n",
       "  <tbody>\n",
       "    <tr>\n",
       "      <th>count</th>\n",
       "      <td>4.000000</td>\n",
       "      <td>4.000000</td>\n",
       "    </tr>\n",
       "    <tr>\n",
       "      <th>mean</th>\n",
       "      <td>2.500000</td>\n",
       "      <td>5.500000</td>\n",
       "    </tr>\n",
       "    <tr>\n",
       "      <th>std</th>\n",
       "      <td>1.290994</td>\n",
       "      <td>1.290994</td>\n",
       "    </tr>\n",
       "    <tr>\n",
       "      <th>min</th>\n",
       "      <td>1.000000</td>\n",
       "      <td>4.000000</td>\n",
       "    </tr>\n",
       "    <tr>\n",
       "      <th>25%</th>\n",
       "      <td>1.750000</td>\n",
       "      <td>4.750000</td>\n",
       "    </tr>\n",
       "    <tr>\n",
       "      <th>50%</th>\n",
       "      <td>2.500000</td>\n",
       "      <td>5.500000</td>\n",
       "    </tr>\n",
       "    <tr>\n",
       "      <th>75%</th>\n",
       "      <td>3.250000</td>\n",
       "      <td>6.250000</td>\n",
       "    </tr>\n",
       "    <tr>\n",
       "      <th>max</th>\n",
       "      <td>4.000000</td>\n",
       "      <td>7.000000</td>\n",
       "    </tr>\n",
       "  </tbody>\n",
       "</table>\n",
       "</div>"
      ]
     },
     "execution_count": 2,
     "metadata": {},
     "output_type": "execute_result"
    }
   ],
   "execution_count": 2
  },
  {
   "cell_type": "markdown",
   "id": "6541ee48-fb69-40d5-8b39-8f1b02918a9e",
   "metadata": {},
   "source": [
    "In this describe() result, we see that the two columns A and B each have four elements.  The means and other statistics are shown.\n",
    "\n",
    "2. You could look up the information on **Google**.\n",
    "\n",
    "If I Google the question \"how do I briefly summarize the contents of a dataframe using Python,\" I receive the following link (among others), which discusses the describe() command mentioned above:\n",
    "\n",
    "https://www.w3schools.com/python/pandas/ref_df_describe.asp\n",
    "\n",
    "It also provide the complete usage information:\n",
    "\n",
    "dataframe.describe(percentiles, include, exclude, datetime_is_numeric)\n",
    "\n",
    "It explains that \"percentiles\" is set by default to [0.25, 0.5, 0.75] but we could change that.  Let's try it!  Since there are three intervals here rather than four, it might be more meaningful to ask about a 33rd and 67th percentile rather than 25, 50, and 75.  We can use 1/3 for 0.33 and 2/3 for 0.67 to get the exact percentile values."
   ]
  },
  {
   "cell_type": "code",
   "id": "3aea76dd-f492-4bbe-9431-8e1a41cf0db9",
   "metadata": {
    "ExecuteTime": {
     "end_time": "2025-05-13T11:43:24.232359Z",
     "start_time": "2025-05-13T11:43:24.225580Z"
    }
   },
   "source": [
    "df = pd.DataFrame([[1, 4], [2, 5], [3, 6], [4, 7]], columns = ['A', 'B'])\n",
    "df.describe(percentiles = [1/3, 2/3])"
   ],
   "outputs": [
    {
     "data": {
      "text/plain": [
       "              A         B\n",
       "count  4.000000  4.000000\n",
       "mean   2.500000  5.500000\n",
       "std    1.290994  1.290994\n",
       "min    1.000000  4.000000\n",
       "33.3%  2.000000  5.000000\n",
       "50%    2.500000  5.500000\n",
       "66.7%  3.000000  6.000000\n",
       "max    4.000000  7.000000"
      ],
      "text/html": [
       "<div>\n",
       "<style scoped>\n",
       "    .dataframe tbody tr th:only-of-type {\n",
       "        vertical-align: middle;\n",
       "    }\n",
       "\n",
       "    .dataframe tbody tr th {\n",
       "        vertical-align: top;\n",
       "    }\n",
       "\n",
       "    .dataframe thead th {\n",
       "        text-align: right;\n",
       "    }\n",
       "</style>\n",
       "<table border=\"1\" class=\"dataframe\">\n",
       "  <thead>\n",
       "    <tr style=\"text-align: right;\">\n",
       "      <th></th>\n",
       "      <th>A</th>\n",
       "      <th>B</th>\n",
       "    </tr>\n",
       "  </thead>\n",
       "  <tbody>\n",
       "    <tr>\n",
       "      <th>count</th>\n",
       "      <td>4.000000</td>\n",
       "      <td>4.000000</td>\n",
       "    </tr>\n",
       "    <tr>\n",
       "      <th>mean</th>\n",
       "      <td>2.500000</td>\n",
       "      <td>5.500000</td>\n",
       "    </tr>\n",
       "    <tr>\n",
       "      <th>std</th>\n",
       "      <td>1.290994</td>\n",
       "      <td>1.290994</td>\n",
       "    </tr>\n",
       "    <tr>\n",
       "      <th>min</th>\n",
       "      <td>1.000000</td>\n",
       "      <td>4.000000</td>\n",
       "    </tr>\n",
       "    <tr>\n",
       "      <th>33.3%</th>\n",
       "      <td>2.000000</td>\n",
       "      <td>5.000000</td>\n",
       "    </tr>\n",
       "    <tr>\n",
       "      <th>50%</th>\n",
       "      <td>2.500000</td>\n",
       "      <td>5.500000</td>\n",
       "    </tr>\n",
       "    <tr>\n",
       "      <th>66.7%</th>\n",
       "      <td>3.000000</td>\n",
       "      <td>6.000000</td>\n",
       "    </tr>\n",
       "    <tr>\n",
       "      <th>max</th>\n",
       "      <td>4.000000</td>\n",
       "      <td>7.000000</td>\n",
       "    </tr>\n",
       "  </tbody>\n",
       "</table>\n",
       "</div>"
      ]
     },
     "execution_count": 3,
     "metadata": {},
     "output_type": "execute_result"
    }
   ],
   "execution_count": 3
  },
  {
   "cell_type": "markdown",
   "id": "6cd06ce3-edf9-4786-982d-5650fc22ca58",
   "metadata": {},
   "source": [
    "Apparently, the 50% value (the median) stays even though we did not specifically request it.\n",
    "\n",
    "3. You could look up the official **documentation**.\n",
    "\n",
    "Now that we know we want the pandas describe() function, try Googling: pandas documentation describe.\n",
    "\n",
    "Here is the general documentation page for pandas:\n",
    "\n",
    "https://pandas.pydata.org/docs/index.html\n",
    "\n",
    "Here is the specific page for the describe() function:\n",
    "\n",
    "https://pandas.pydata.org/docs/reference/api/pandas.DataFrame.describe.html\n",
    "\n",
    "When I look at this, it appears to be showing the most recent (currently 2.2) version of pandas; this is shown in the upper right corner.\n",
    "\n",
    "4. You could also ask **ChatGPT**.\n",
    "\n",
    "Let's try it.  ChatGPT, \"how do I briefly summarize the contents of a dataframe using Python\"\n",
    "\n",
    "When I do this, ChatGPT mentions describe() among other options, but does not go into detail.  However, I could ask it.  ChatGPT, \"tell me more about describe() in Python for summarizing dataframes.\"\n",
    "\n",
    "Then, I get a good explanation of describe(), although it does not mention the percentiles option.  One advantage of using Google or the documentation in addition of ChatGPT is that these sources may provide interesting information that does not directly answer our question.  Thus, we might not have known about the various arguments, such as percentiles, if we only used ChatGPT.  A second issue is that ChatGPT sometimes hallucinates (it makes up information).  In general, by examining multiple sources - Google, documentation, and ChatGPT - we can get more information."
   ]
  },
  {
   "cell_type": "markdown",
   "id": "1cede07d-03a8-4c36-b5ca-67619bbfd365",
   "metadata": {},
   "source": [
    "# 2. Weekly graph question"
   ]
  },
  {
   "cell_type": "markdown",
   "id": "4a71d462-12df-4b94-b34f-4d43e4d289d7",
   "metadata": {},
   "source": [
    "In Storytelling With Data, on page 1: examine the pie chart graph in the upper left corner of the graphs.  Please write a short explanation of the pros and cons of this graph.  What do you think of the choice of pie chart as a format?  The color scheme?  The legend?  The title?  How would you draw it differently if you were creating this graph?\n",
    "\n",
    "Some pros of this graph are that I can clearly see how participants of the survey are feeling. For example, we can see that 40% are feeling \"OK\". We can also see a wide range of feelings from \"Bored\" to \"Excited\". The different pieces of the pie chart are clearly colored and labeled. Some cons of this graph are that I have trouble looking at it quickly and seeing what it's actually representing. Also, I'm not a fan of the pie chart format. The only thing that really stands out to me is the bright neon green which is \"OK\". As someone reading the chart, I want to quickly see what it's representing and what the sentiment of the survey is. The color scheme is ok, but the bright neon green is really distracting to me. I'm not sure if this is what was intended since it's the highest percentage at 40%, but I feel like more neutral colors should be used. The light blue is also a bit bright for my tastes. The legend would be fine if the title was more descriptive. I can see the legend represents participant's feelings about the survey, but if I'm only given the chart, I do not know what the survey was about. Therefore, the legend is meaningless since it's just a representation of people's generic feelings. I would create a bar chart, with a more descriptive title and use neutral colors. I would put labels above each bar so that you can clearly see what feelings are the highest."
   ]
  },
  {
   "cell_type": "markdown",
   "id": "52a54048-d621-47b9-aa65-4b46d9c3bb4c",
   "metadata": {},
   "source": [
    "# 3. Homework - Bank Customers\n",
    "\n",
    "I will begin by creating a file for you to analyze.  I will show you all of the steps I used to create it.  Please run this code in order to create and save a file about bank customers.\n",
    "\n",
    "### The numbered problems are for you to solve."
   ]
  },
  {
   "cell_type": "code",
   "id": "2950b5f1-9ab8-452f-b9d7-31ce82bbf698",
   "metadata": {
    "ExecuteTime": {
     "end_time": "2025-05-13T11:43:28.292464Z",
     "start_time": "2025-05-13T11:43:28.290536Z"
    }
   },
   "source": [
    "num_customers = 100\n",
    "np.random.seed(0)"
   ],
   "outputs": [],
   "execution_count": 4
  },
  {
   "cell_type": "code",
   "id": "95561d16-3aac-4537-841a-835272775080",
   "metadata": {
    "ExecuteTime": {
     "end_time": "2025-05-13T11:43:29.505300Z",
     "start_time": "2025-05-13T11:43:29.502780Z"
    }
   },
   "source": [
    "df_bank = pd.DataFrame(columns = [\"CustomerID\"])"
   ],
   "outputs": [],
   "execution_count": 5
  },
  {
   "cell_type": "code",
   "id": "3e84ff91-47c6-4788-b56b-1d63a2b06a33",
   "metadata": {
    "ExecuteTime": {
     "end_time": "2025-05-13T11:43:30.553274Z",
     "start_time": "2025-05-13T11:43:30.549867Z"
    }
   },
   "source": [
    "df_bank[\"CustomerID\"] = [str(x) for x in np.arange(num_customers)]"
   ],
   "outputs": [],
   "execution_count": 6
  },
  {
   "cell_type": "code",
   "id": "5983f3fb-8341-4bb0-92be-850dd712c853",
   "metadata": {
    "ExecuteTime": {
     "end_time": "2025-05-13T11:43:31.440673Z",
     "start_time": "2025-05-13T11:43:31.434715Z"
    }
   },
   "source": [
    "start = datetime(1950, 1, 1)\n",
    "end = datetime(2024, 1, 1)\n",
    "numdays = (end - start).days\n",
    "random_days = np.random.randint(0, numdays, size = num_customers)\n",
    "df_bank[\"BirthDate\"] = start + pd.to_timedelta(random_days, unit='D')\n",
    "df_bank[\"BirthDate\"] = df_bank[\"BirthDate\"].dt.strftime('%Y-%m-%d')"
   ],
   "outputs": [],
   "execution_count": 7
  },
  {
   "cell_type": "code",
   "id": "64adeb78-6b2c-46df-a4f0-8aee5fa75f83",
   "metadata": {
    "ExecuteTime": {
     "end_time": "2025-05-13T11:43:33.334529Z",
     "start_time": "2025-05-13T11:43:33.331930Z"
    }
   },
   "source": [
    "def make_ssn_string(num):\n",
    "    ssn_str = f'{num:09}'\n",
    "    return ssn_str[0:3] + \"-\" + ssn_str[3:5] + \"-\" + ssn_str[5:9]\n",
    "ssn_vector_func = np.vectorize(make_ssn_string)\n",
    "df_bank[\"SSN\"] = ssn_vector_func(np.random.randint(0, 999999999, size = num_customers))"
   ],
   "outputs": [],
   "execution_count": 8
  },
  {
   "cell_type": "code",
   "id": "0a8e00bb-2f97-4e11-a95f-138baf44206e",
   "metadata": {
    "ExecuteTime": {
     "end_time": "2025-05-13T11:43:34.645057Z",
     "start_time": "2025-05-13T11:43:34.642626Z"
    }
   },
   "source": [
    "df_bank[\"AccountID\"] = np.random.randint(0, num_customers, size = num_customers)"
   ],
   "outputs": [],
   "execution_count": 9
  },
  {
   "cell_type": "code",
   "id": "bc41db6c-9e4a-4efc-af0d-9f921bb77ec7",
   "metadata": {
    "ExecuteTime": {
     "end_time": "2025-05-13T11:43:36.353600Z",
     "start_time": "2025-05-13T11:43:36.347063Z"
    }
   },
   "source": [
    "random_days = np.random.randint(0, 365 * 80, size = num_customers)\n",
    "df_bank[\"AccountOpened\"] = (pd.to_datetime(df_bank[\"BirthDate\"]) + pd.to_timedelta(random_days, unit='D')).dt.strftime('%Y-%m-%d')"
   ],
   "outputs": [],
   "execution_count": 10
  },
  {
   "cell_type": "code",
   "id": "cd2ddf02-7ef2-485a-8d1a-1049b30630dd",
   "metadata": {
    "ExecuteTime": {
     "end_time": "2025-05-13T11:43:37.356227Z",
     "start_time": "2025-05-13T11:43:37.353838Z"
    }
   },
   "source": [
    "df_bank.loc[0, \"BirthDate\"] = \"1980\"\n",
    "df_bank.loc[1, \"BirthDate\"] = \"no date\""
   ],
   "outputs": [],
   "execution_count": 11
  },
  {
   "cell_type": "code",
   "id": "e5e52d8f-10b5-433f-bcfa-9d50232041e0",
   "metadata": {
    "ExecuteTime": {
     "end_time": "2025-05-13T11:43:38.340287Z",
     "start_time": "2025-05-13T11:43:38.338206Z"
    }
   },
   "source": [
    "df_bank.loc[2, \"AccountID\"] = np.nan"
   ],
   "outputs": [],
   "execution_count": 12
  },
  {
   "cell_type": "code",
   "id": "bdb0d5e7-1bcb-48f0-ab70-c7c3d4b8bfce",
   "metadata": {
    "ExecuteTime": {
     "end_time": "2025-05-13T11:43:39.351682Z",
     "start_time": "2025-05-13T11:43:39.349258Z"
    }
   },
   "source": [
    "df_bank[\"AccountType\"] = np.random.choice([\"checking\", \"savings\", \"cd\"], size = num_customers)"
   ],
   "outputs": [],
   "execution_count": 13
  },
  {
   "cell_type": "markdown",
   "id": "314a2bef-d599-4599-b555-7a01c2cd3fb3",
   "metadata": {},
   "source": [
    "Load the bank_customers.csv file.  (There is no practical reason to save it, then load it - we're just demonstrating how this would be done.)\n",
    "I am calling the loaded df by a new name, df_bank_loaded, to make clear why it's not the same variable as the old df.  Of course, in actuality the two contain the exact same data!  But it's good to get in the habit of naming things carefully."
   ]
  },
  {
   "cell_type": "code",
   "id": "15dea7e7-619d-4d3f-aa72-712f3da7d384",
   "metadata": {
    "ExecuteTime": {
     "end_time": "2025-05-13T11:43:41.297236Z",
     "start_time": "2025-05-13T11:43:41.292594Z"
    }
   },
   "source": [
    "df_bank.loc[num_customers - 1] = df.loc[0]\n",
    "df_bank.to_csv(\"bank_customers.csv\", index=False)"
   ],
   "outputs": [],
   "execution_count": 14
  },
  {
   "cell_type": "code",
   "id": "faf79336-ba67-446e-8220-e77534c4c949",
   "metadata": {
    "ExecuteTime": {
     "end_time": "2025-05-13T11:43:42.303031Z",
     "start_time": "2025-05-13T11:43:42.298428Z"
    }
   },
   "source": [
    "df_bank_loaded = pd.read_csv(\"bank_customers.csv\")"
   ],
   "outputs": [],
   "execution_count": 15
  },
  {
   "cell_type": "markdown",
   "id": "380145bb-e051-418d-b3d2-ad032cab375b",
   "metadata": {},
   "source": [
    "1. Use describe() and info() to analyze the data.   Also, look at the first few rows."
   ]
  },
  {
   "metadata": {
    "ExecuteTime": {
     "end_time": "2025-05-13T11:43:43.953835Z",
     "start_time": "2025-05-13T11:43:43.947648Z"
    }
   },
   "cell_type": "code",
   "source": "df_bank_loaded.describe()",
   "id": "7589bfcf2e74ceee",
   "outputs": [
    {
     "data": {
      "text/plain": [
       "       CustomerID  AccountID\n",
       "count   99.000000  98.000000\n",
       "mean    49.000000  46.551020\n",
       "std     28.722813  27.679358\n",
       "min      0.000000   0.000000\n",
       "25%     24.500000  25.500000\n",
       "50%     49.000000  42.000000\n",
       "75%     73.500000  71.000000\n",
       "max     98.000000  97.000000"
      ],
      "text/html": [
       "<div>\n",
       "<style scoped>\n",
       "    .dataframe tbody tr th:only-of-type {\n",
       "        vertical-align: middle;\n",
       "    }\n",
       "\n",
       "    .dataframe tbody tr th {\n",
       "        vertical-align: top;\n",
       "    }\n",
       "\n",
       "    .dataframe thead th {\n",
       "        text-align: right;\n",
       "    }\n",
       "</style>\n",
       "<table border=\"1\" class=\"dataframe\">\n",
       "  <thead>\n",
       "    <tr style=\"text-align: right;\">\n",
       "      <th></th>\n",
       "      <th>CustomerID</th>\n",
       "      <th>AccountID</th>\n",
       "    </tr>\n",
       "  </thead>\n",
       "  <tbody>\n",
       "    <tr>\n",
       "      <th>count</th>\n",
       "      <td>99.000000</td>\n",
       "      <td>98.000000</td>\n",
       "    </tr>\n",
       "    <tr>\n",
       "      <th>mean</th>\n",
       "      <td>49.000000</td>\n",
       "      <td>46.551020</td>\n",
       "    </tr>\n",
       "    <tr>\n",
       "      <th>std</th>\n",
       "      <td>28.722813</td>\n",
       "      <td>27.679358</td>\n",
       "    </tr>\n",
       "    <tr>\n",
       "      <th>min</th>\n",
       "      <td>0.000000</td>\n",
       "      <td>0.000000</td>\n",
       "    </tr>\n",
       "    <tr>\n",
       "      <th>25%</th>\n",
       "      <td>24.500000</td>\n",
       "      <td>25.500000</td>\n",
       "    </tr>\n",
       "    <tr>\n",
       "      <th>50%</th>\n",
       "      <td>49.000000</td>\n",
       "      <td>42.000000</td>\n",
       "    </tr>\n",
       "    <tr>\n",
       "      <th>75%</th>\n",
       "      <td>73.500000</td>\n",
       "      <td>71.000000</td>\n",
       "    </tr>\n",
       "    <tr>\n",
       "      <th>max</th>\n",
       "      <td>98.000000</td>\n",
       "      <td>97.000000</td>\n",
       "    </tr>\n",
       "  </tbody>\n",
       "</table>\n",
       "</div>"
      ]
     },
     "execution_count": 16,
     "metadata": {},
     "output_type": "execute_result"
    }
   ],
   "execution_count": 16
  },
  {
   "metadata": {
    "ExecuteTime": {
     "end_time": "2025-05-13T11:43:45.943377Z",
     "start_time": "2025-05-13T11:43:45.935398Z"
    }
   },
   "cell_type": "code",
   "source": "df_bank_loaded.info()",
   "id": "3bdd0b15847262d6",
   "outputs": [
    {
     "name": "stdout",
     "output_type": "stream",
     "text": [
      "<class 'pandas.core.frame.DataFrame'>\n",
      "RangeIndex: 100 entries, 0 to 99\n",
      "Data columns (total 6 columns):\n",
      " #   Column         Non-Null Count  Dtype  \n",
      "---  ------         --------------  -----  \n",
      " 0   CustomerID     99 non-null     float64\n",
      " 1   BirthDate      99 non-null     object \n",
      " 2   SSN            99 non-null     object \n",
      " 3   AccountID      98 non-null     float64\n",
      " 4   AccountOpened  99 non-null     object \n",
      " 5   AccountType    99 non-null     object \n",
      "dtypes: float64(2), object(4)\n",
      "memory usage: 4.8+ KB\n"
     ]
    }
   ],
   "execution_count": 17
  },
  {
   "cell_type": "markdown",
   "id": "8897936c-9af9-4344-bdb7-6290d8b34bce",
   "metadata": {},
   "source": [
    "Suggested Google Search or ChatGPT prompt: \"how do I use the describe function in python\"\n",
    "\n",
    "Example Google result: https://www.w3schools.com/python/pandas/ref_df_describe.asp"
   ]
  },
  {
   "cell_type": "code",
   "id": "5fb74ed3-871e-41b6-99f5-da7eb3a37712",
   "metadata": {
    "ExecuteTime": {
     "end_time": "2025-05-13T11:43:47.750055Z",
     "start_time": "2025-05-13T11:43:47.745075Z"
    }
   },
   "source": [
    "# The first few rows\n",
    "df_bank_loaded.iloc[0:5]"
   ],
   "outputs": [
    {
     "data": {
      "text/plain": [
       "   CustomerID   BirthDate          SSN  AccountID AccountOpened AccountType\n",
       "0         0.0        1980  530-47-1866        4.0    1959-12-06    checking\n",
       "1         1.0     no date  682-76-9175       67.0    2039-02-20          cd\n",
       "2         2.0  1976-12-15  377-98-9839        NaN    2019-03-25    checking\n",
       "3         3.0  2003-10-18  474-05-7613       86.0    2004-03-02          cd\n",
       "4         4.0  1985-12-06  750-55-5509       77.0    2059-05-05          cd"
      ],
      "text/html": [
       "<div>\n",
       "<style scoped>\n",
       "    .dataframe tbody tr th:only-of-type {\n",
       "        vertical-align: middle;\n",
       "    }\n",
       "\n",
       "    .dataframe tbody tr th {\n",
       "        vertical-align: top;\n",
       "    }\n",
       "\n",
       "    .dataframe thead th {\n",
       "        text-align: right;\n",
       "    }\n",
       "</style>\n",
       "<table border=\"1\" class=\"dataframe\">\n",
       "  <thead>\n",
       "    <tr style=\"text-align: right;\">\n",
       "      <th></th>\n",
       "      <th>CustomerID</th>\n",
       "      <th>BirthDate</th>\n",
       "      <th>SSN</th>\n",
       "      <th>AccountID</th>\n",
       "      <th>AccountOpened</th>\n",
       "      <th>AccountType</th>\n",
       "    </tr>\n",
       "  </thead>\n",
       "  <tbody>\n",
       "    <tr>\n",
       "      <th>0</th>\n",
       "      <td>0.0</td>\n",
       "      <td>1980</td>\n",
       "      <td>530-47-1866</td>\n",
       "      <td>4.0</td>\n",
       "      <td>1959-12-06</td>\n",
       "      <td>checking</td>\n",
       "    </tr>\n",
       "    <tr>\n",
       "      <th>1</th>\n",
       "      <td>1.0</td>\n",
       "      <td>no date</td>\n",
       "      <td>682-76-9175</td>\n",
       "      <td>67.0</td>\n",
       "      <td>2039-02-20</td>\n",
       "      <td>cd</td>\n",
       "    </tr>\n",
       "    <tr>\n",
       "      <th>2</th>\n",
       "      <td>2.0</td>\n",
       "      <td>1976-12-15</td>\n",
       "      <td>377-98-9839</td>\n",
       "      <td>NaN</td>\n",
       "      <td>2019-03-25</td>\n",
       "      <td>checking</td>\n",
       "    </tr>\n",
       "    <tr>\n",
       "      <th>3</th>\n",
       "      <td>3.0</td>\n",
       "      <td>2003-10-18</td>\n",
       "      <td>474-05-7613</td>\n",
       "      <td>86.0</td>\n",
       "      <td>2004-03-02</td>\n",
       "      <td>cd</td>\n",
       "    </tr>\n",
       "    <tr>\n",
       "      <th>4</th>\n",
       "      <td>4.0</td>\n",
       "      <td>1985-12-06</td>\n",
       "      <td>750-55-5509</td>\n",
       "      <td>77.0</td>\n",
       "      <td>2059-05-05</td>\n",
       "      <td>cd</td>\n",
       "    </tr>\n",
       "  </tbody>\n",
       "</table>\n",
       "</div>"
      ]
     },
     "execution_count": 18,
     "metadata": {},
     "output_type": "execute_result"
    }
   ],
   "execution_count": 18
  },
  {
   "cell_type": "markdown",
   "id": "e6062d1d-bf7f-4e81-8d19-60bd160c02d5",
   "metadata": {},
   "source": [
    "If you used describe() and info(), you now know that BirthDate and AccountOpened are strings.  But we want them to be dates.  Let's convert them to dates (or Timestamps in pandas).  When we try this, we get a ValueError."
   ]
  },
  {
   "cell_type": "code",
   "id": "89e37c09-aee4-49f5-abc5-1e6ec9837b53",
   "metadata": {
    "ExecuteTime": {
     "end_time": "2025-05-13T11:43:49.421377Z",
     "start_time": "2025-05-13T11:43:49.418260Z"
    }
   },
   "source": [
    "try:\n",
    "    df_bank_loaded[\"BirthDate\"] = pd.to_datetime(df_bank_loaded[\"BirthDate\"], format='%Y-%m-%d')\n",
    "    print(\"It worked!\")\n",
    "except ValueError as e:\n",
    "    print(f\"ValueError for BirthDate: {e}\")"
   ],
   "outputs": [
    {
     "name": "stdout",
     "output_type": "stream",
     "text": [
      "ValueError for BirthDate: time data \"1980\" doesn't match format \"%Y-%m-%d\", at position 0. You might want to try:\n",
      "    - passing `format` if your strings have a consistent format;\n",
      "    - passing `format='ISO8601'` if your strings are all ISO8601 but not necessarily in exactly the same format;\n",
      "    - passing `format='mixed'`, and the format will be inferred for each element individually. You might want to use `dayfirst` alongside this.\n"
     ]
    }
   ],
   "execution_count": 19
  },
  {
   "cell_type": "code",
   "id": "dbcb584b-134b-475b-8fd4-70ca1ba7d03b",
   "metadata": {
    "ExecuteTime": {
     "end_time": "2025-05-13T11:43:50.918798Z",
     "start_time": "2025-05-13T11:43:50.916090Z"
    }
   },
   "source": [
    "try:\n",
    "    df_bank_loaded[\"AccountOpened\"] = pd.to_datetime(df_bank_loaded[\"AccountOpened\"], format='%Y-%m-%d')\n",
    "    print(\"It worked!\")\n",
    "except ValueError as e:\n",
    "    print(f\"ValueError for AccountOpened: {e}\")"
   ],
   "outputs": [
    {
     "name": "stdout",
     "output_type": "stream",
     "text": [
      "It worked!\n"
     ]
    }
   ],
   "execution_count": 20
  },
  {
   "cell_type": "markdown",
   "id": "d64b1ccf-1001-40ab-b026-beae68b7fd19",
   "metadata": {},
   "source": [
    "The simple way to fix this is to remove the rows that have bad dates for BirthDate.  I Googled:\n",
    "\n",
    "\"How to remove rows from a dataframe that have poorly formatted dates using python\"\n",
    "\n",
    "https://stackoverflow.com/questions/21556744/pandas-remove-rows-whose-date-does-not-follow-specified-format\n",
    "\n",
    "This recommends that I verify that the date is a string of length 10, because YYYY-MM-DD has that length:\n",
    "\n",
    "df1\\[df1.BirthDate.str.len() !=10]"
   ]
  },
  {
   "cell_type": "code",
   "id": "70ec53a1-2de5-48b5-9942-6857495e2b05",
   "metadata": {
    "ExecuteTime": {
     "end_time": "2025-05-13T11:43:52.694271Z",
     "start_time": "2025-05-13T11:43:52.691038Z"
    }
   },
   "source": [
    "len(df_bank_loaded[df_bank_loaded.BirthDate.str.len() == 10])"
   ],
   "outputs": [
    {
     "data": {
      "text/plain": [
       "97"
      ]
     },
     "execution_count": 21,
     "metadata": {},
     "output_type": "execute_result"
    }
   ],
   "execution_count": 21
  },
  {
   "cell_type": "code",
   "id": "a4edac07-185c-45ad-ba95-cca56bca0c7e",
   "metadata": {
    "ExecuteTime": {
     "end_time": "2025-05-13T11:43:53.782482Z",
     "start_time": "2025-05-13T11:43:53.777801Z"
    }
   },
   "source": [
    "df_bank_loaded[df_bank_loaded.BirthDate.str.len() != 10].iloc[0:5]"
   ],
   "outputs": [
    {
     "data": {
      "text/plain": [
       "    CustomerID BirthDate          SSN  AccountID AccountOpened AccountType\n",
       "0          0.0      1980  530-47-1866        4.0    1959-12-06    checking\n",
       "1          1.0   no date  682-76-9175       67.0    2039-02-20          cd\n",
       "99         NaN       NaN          NaN        NaN           NaT         NaN"
      ],
      "text/html": [
       "<div>\n",
       "<style scoped>\n",
       "    .dataframe tbody tr th:only-of-type {\n",
       "        vertical-align: middle;\n",
       "    }\n",
       "\n",
       "    .dataframe tbody tr th {\n",
       "        vertical-align: top;\n",
       "    }\n",
       "\n",
       "    .dataframe thead th {\n",
       "        text-align: right;\n",
       "    }\n",
       "</style>\n",
       "<table border=\"1\" class=\"dataframe\">\n",
       "  <thead>\n",
       "    <tr style=\"text-align: right;\">\n",
       "      <th></th>\n",
       "      <th>CustomerID</th>\n",
       "      <th>BirthDate</th>\n",
       "      <th>SSN</th>\n",
       "      <th>AccountID</th>\n",
       "      <th>AccountOpened</th>\n",
       "      <th>AccountType</th>\n",
       "    </tr>\n",
       "  </thead>\n",
       "  <tbody>\n",
       "    <tr>\n",
       "      <th>0</th>\n",
       "      <td>0.0</td>\n",
       "      <td>1980</td>\n",
       "      <td>530-47-1866</td>\n",
       "      <td>4.0</td>\n",
       "      <td>1959-12-06</td>\n",
       "      <td>checking</td>\n",
       "    </tr>\n",
       "    <tr>\n",
       "      <th>1</th>\n",
       "      <td>1.0</td>\n",
       "      <td>no date</td>\n",
       "      <td>682-76-9175</td>\n",
       "      <td>67.0</td>\n",
       "      <td>2039-02-20</td>\n",
       "      <td>cd</td>\n",
       "    </tr>\n",
       "    <tr>\n",
       "      <th>99</th>\n",
       "      <td>NaN</td>\n",
       "      <td>NaN</td>\n",
       "      <td>NaN</td>\n",
       "      <td>NaN</td>\n",
       "      <td>NaT</td>\n",
       "      <td>NaN</td>\n",
       "    </tr>\n",
       "  </tbody>\n",
       "</table>\n",
       "</div>"
      ]
     },
     "execution_count": 22,
     "metadata": {},
     "output_type": "execute_result"
    }
   ],
   "execution_count": 22
  },
  {
   "cell_type": "markdown",
   "id": "2503d01f-0168-43f9-a271-6f529e47886f",
   "metadata": {},
   "source": [
    "Now we can make this permanent, creating a new DataFrame df_bank_datefix.\n",
    "I am making a copy in order to ensure that df_bank_datefix is a new DataFrame rather than being a slice of the old one."
   ]
  },
  {
   "cell_type": "code",
   "id": "d1bed857-0d03-4091-9838-fd75227c63e3",
   "metadata": {
    "ExecuteTime": {
     "end_time": "2025-05-13T11:43:55.546182Z",
     "start_time": "2025-05-13T11:43:55.543357Z"
    }
   },
   "source": [
    "df_bank_datefix = df_bank_loaded[df_bank_loaded.BirthDate.str.len() == 10].copy()"
   ],
   "outputs": [],
   "execution_count": 23
  },
  {
   "cell_type": "markdown",
   "id": "838e568e-a333-4d18-ba8d-84c2926191e8",
   "metadata": {},
   "source": [
    "Test again:"
   ]
  },
  {
   "cell_type": "code",
   "id": "d8655d6a-0a79-42c4-891a-cb421d664ca0",
   "metadata": {
    "ExecuteTime": {
     "end_time": "2025-05-13T11:43:57.044191Z",
     "start_time": "2025-05-13T11:43:57.041529Z"
    }
   },
   "source": [
    "try:\n",
    "    df_bank_datefix[\"BirthDate\"] = pd.to_datetime(df_bank_datefix[\"BirthDate\"], format='%Y-%m-%d')\n",
    "    print(\"It worked!\")\n",
    "except ValueError as e:\n",
    "    print(f\"ValueError: {e}\")"
   ],
   "outputs": [
    {
     "name": "stdout",
     "output_type": "stream",
     "text": [
      "It worked!\n"
     ]
    }
   ],
   "execution_count": 24
  },
  {
   "cell_type": "markdown",
   "id": "fa88b739-9481-46fd-a8bd-996ed0e0bc2f",
   "metadata": {},
   "source": [
    "2. To check that it worked, use a summary function that will tell you if the BirthDate field is now a datetime type"
   ]
  },
  {
   "cell_type": "code",
   "id": "ce550219-274c-4e3c-953d-cdf920a37990",
   "metadata": {
    "ExecuteTime": {
     "end_time": "2025-05-13T11:43:58.638440Z",
     "start_time": "2025-05-13T11:43:58.634288Z"
    }
   },
   "source": "df_bank_datefix.info()",
   "outputs": [
    {
     "name": "stdout",
     "output_type": "stream",
     "text": [
      "<class 'pandas.core.frame.DataFrame'>\n",
      "Index: 97 entries, 2 to 98\n",
      "Data columns (total 6 columns):\n",
      " #   Column         Non-Null Count  Dtype         \n",
      "---  ------         --------------  -----         \n",
      " 0   CustomerID     97 non-null     float64       \n",
      " 1   BirthDate      97 non-null     datetime64[ns]\n",
      " 2   SSN            97 non-null     object        \n",
      " 3   AccountID      96 non-null     float64       \n",
      " 4   AccountOpened  97 non-null     datetime64[ns]\n",
      " 5   AccountType    97 non-null     object        \n",
      "dtypes: datetime64[ns](2), float64(2), object(2)\n",
      "memory usage: 5.3+ KB\n"
     ]
    }
   ],
   "execution_count": 25
  },
  {
   "cell_type": "markdown",
   "id": "ed7ac0d0-be31-4c50-838d-f104463a8114",
   "metadata": {},
   "source": [
    "3. Check whether there are any null values in the DataFrame.  If so, remove those rows or (if you prefer) fill in the value with an appropriate number.\n",
    "\n",
    "First try at a Google search or ChatGPT prompt: \"how do I find out if there are any null values in a pandas DataFrame?\"\n",
    "\n",
    "This page gives an answer.  Unfortunately, it took my request too literally: it tells me only if there are any, and not which rows have them.  On reflection, that's not really what I want - I think I asked the wrong question.  I want to see the rows, not just _whether_ there are any.\n",
    "\n",
    "https://stackoverflow.com/questions/29530232/how-to-check-if-any-value-is-nan-in-a-pandas-dataframe\n",
    "\n",
    "ChatGPT likewise doesn't give the answer I want - because I asked the wrong question.\n",
    "\n",
    "Next try at a Google search or ChatGPT prompt: \"how do I check which rows have null values in a pandas DataFrame?\"\n",
    "\n",
    "This page gives an answer:\n",
    "\n",
    "https://stackoverflow.com/questions/36226083/how-to-find-which-columns-contain-any-nan-value-in-pandas-dataframe\n",
    "\n",
    "ChatGPT also gives a good answer.  I recommend looking at both of them!\n",
    "\n",
    "Now try it on your own:\n",
    "\n",
    "Suggested Google search or ChatGPT prompt: \"how do I remove rows with null values in a pandas DataFrame?\"\n",
    "\n",
    "Suggested Google search or ChatGPT prompt: \"how do I fill in null values in a pandas DataFrame?\""
   ]
  },
  {
   "metadata": {},
   "cell_type": "markdown",
   "source": [
    "**how do I remove rows with null values in a pandas DataFrame?**\n",
    "\n",
    "Google\n",
    "* https://stackoverflow.com/questions/44548721/remove-row-with-null-value-from-pandas-data-frame\n",
    "\n",
    "ChatGPT\n",
    "* You can use `.dropna()` example below.\n",
    "\n",
    "```\n",
    "import pandas as pd\n",
    "\n",
    "# Sample DataFrame with some null values\n",
    "df = pd.DataFrame({\n",
    "    'name': ['Alice', 'Bob', 'Charlie', None],\n",
    "    'age': [25, None, 30, 22]\n",
    "})\n",
    "\n",
    "print(\"Original DataFrame:\")\n",
    "print(df)\n",
    "\n",
    "# Remove rows with any null values\n",
    "df_clean = df.dropna()\n",
    "\n",
    "print(\"\\nDataFrame after removing rows with nulls:\")\n",
    "print(df_clean)\n",
    "```\n",
    "\n",
    "**how do I fill in null values in a pandas DataFrame?**\n",
    "\n",
    "Google\n",
    "* https://www.geeksforgeeks.org/python-pandas-dataframe-fillna-to-replace-null-values-in-dataframe/\n",
    "\n",
    "ChatGPT\n",
    "* You can use `.fillna()` example below.\n",
    "\n",
    "```\n",
    "import pandas as pd\n",
    "\n",
    "# Example DataFrame with some nulls\n",
    "data = {\n",
    "    'A': [1, None, 3, None],\n",
    "    'B': [4, 5, None, 8]\n",
    "}\n",
    "df = pd.DataFrame(data)\n",
    "\n",
    "print(\"Original:\")\n",
    "print(df)\n",
    "# Output:\n",
    "#      A    B\n",
    "# 0  1.0  4.0\n",
    "# 1  NaN  5.0\n",
    "# 2  3.0  NaN\n",
    "# 3  NaN  8.0\n",
    "```"
   ],
   "id": "7432e4c2824f1d18"
  },
  {
   "cell_type": "markdown",
   "id": "54ca88fe-0b67-473e-965f-7e5da13f2a02",
   "metadata": {},
   "source": [
    "4. Find out if there are any duplicate rows (two rows exactly the same).  List their row numbers.  Then remove the duplicates"
   ]
  },
  {
   "cell_type": "markdown",
   "id": "5abf0983-4861-486b-bfc0-942b6772c866",
   "metadata": {},
   "source": [
    "Suggested Google search or ChatGPT prompt: \"how can I find out if there are any duplicate rows in a DataFrame using Python\"\n",
    "\n",
    "Again, Google provides me with a page that addresses the question:\n",
    "\n",
    "https://saturncloud.io/blog/how-to-find-all-duplicate-rows-in-a-pandas-dataframe/\n",
    "\n",
    "To remove the duplicates, do this search: \"how can I remove the duplicate rows in a DataFrame using Python\"\n",
    "\n",
    "This leads me to the following documentation.\n",
    "\n",
    "https://pandas.pydata.org/docs/reference/api/pandas.DataFrame.drop_duplicates.html"
   ]
  },
  {
   "cell_type": "code",
   "id": "acd1cc2f-2879-4839-8ac7-9b2bc306dfb5",
   "metadata": {
    "ExecuteTime": {
     "end_time": "2025-05-13T11:44:03.360666Z",
     "start_time": "2025-05-13T11:44:03.355515Z"
    }
   },
   "source": [
    "duplicates = df_bank_datefix.duplicated(keep=False)\n",
    "duplicate_indices = df_bank_datefix.index[duplicates].tolist()\n",
    "print('Row numbers of duplicate rows')\n",
    "print(duplicate_indices)\n",
    "\n",
    "df_bank_datefix_no_duplicates = df_bank_datefix.drop_duplicates()\n",
    "\n",
    "print('df_bank_datefix rows: ' + str(len(df_bank_datefix)))\n",
    "print('df_bank_datefix_no_duplicates rows: ' + str(len(df_bank_datefix_no_duplicates)))"
   ],
   "outputs": [
    {
     "name": "stdout",
     "output_type": "stream",
     "text": [
      "Row numbers of duplicate rows\n",
      "[]\n",
      "df_bank_datefix rows: 97\n",
      "df_bank_datefix_no_duplicates rows: 97\n"
     ]
    }
   ],
   "execution_count": 26
  },
  {
   "cell_type": "markdown",
   "id": "cc5cd8a5-c8bd-498c-b8b5-25dd74cdd2c6",
   "metadata": {},
   "source": [
    "5. Check whether the customers all have unique AccountIDs.  If not, provide the first example of a non-unique AccountId."
   ]
  },
  {
   "cell_type": "markdown",
   "id": "9b4f3f46-b09e-4a48-a3f4-72e1d1ba77fc",
   "metadata": {},
   "source": [
    "Suggested Google search or ChatGPT prompt: \"how can I find the first non-unique item from a pandas Series in python\"\n",
    "\n",
    "By the way: why didn't I ask the question \"how can I check whether the customers all have unique AccountIDs\"?\n",
    "\n",
    "The problem would be that Google and ChatGPT don't know what \"customers\" you are talking about.  It's important to understand that the AccountIDs are a column of a DataFrame, and as such they are a Series.  Therefore, we should use the correct vocabulary and ask about a Series.  If you mess up and ask about a \"list\" instead of a Series, you _might_ get an answer that still works.  But it's better to get the vocabularly right.\n",
    "\n",
    "It's important to add \"in python\" because this task could be performed in many languages.\n",
    "\n",
    "ChatGPT gave me this suggestion: data[data.isin(data[data.duplicated()])].iloc[0]\n",
    "However, ChatGPT did not explain how this code worked and even claimed (falsely) that it was going to use the value_counts() function in the solution.  So although the code is correct, I personally found ChatGPT's answer very confusing.  You could, perhaps, ask ChatGPT to explain further how this code works.\n",
    "\n",
    "ChatGPT, \"How does this code work: data[data.isin(data[data.duplicated()])].iloc[0]\"\n",
    "\n",
    "On the other hand, Google leads me to the documentation for the duplicated() function:\n",
    "\n",
    "https://pandas.pydata.org/docs/reference/api/pandas.Series.duplicated.html\n",
    "\n",
    "Here, I can see that when I really need is data.duplicated(keep = False), where \"data\" should be the Series in question.  However, this just gives me a Series of boolean values indicating which ones are duplicates.  I have to somehow know that extracting the numerical values instead of a Series of booleans involves boolean indexing: data\\[data.duplicated(keep = False)].\n",
    "\n",
    "So as usual, I'd suggest that a combination of Google, documentation, and ChatGPT will give you the best information."
   ]
  },
  {
   "cell_type": "code",
   "id": "d3825ba0-a790-42e0-94ad-df931dbad3cf",
   "metadata": {
    "ExecuteTime": {
     "end_time": "2025-05-13T11:44:05.621520Z",
     "start_time": "2025-05-13T11:44:05.616334Z"
    }
   },
   "source": [
    "has_duplicates = df_bank_datefix['AccountID'].duplicated().any()\n",
    "print(f\"Has duplicate AccountIDs: {has_duplicates}\")\n",
    "\n",
    "id_counts = df_bank_datefix['AccountID'].value_counts()\n",
    "duplicate_ids = id_counts[id_counts > 1]\n",
    "\n",
    "duplicate_id_list = duplicate_ids.index.tolist()\n",
    "duplicate_rows = df_bank_datefix[df_bank_datefix['AccountID'].isin(duplicate_id_list)]\n",
    "print(duplicate_rows.head(1))"
   ],
   "outputs": [
    {
     "name": "stdout",
     "output_type": "stream",
     "text": [
      "Has duplicate AccountIDs: True\n",
      "   CustomerID  BirthDate          SSN  AccountID AccountOpened AccountType\n",
      "3         3.0 2003-10-18  474-05-7613       86.0    2004-03-02          cd\n"
     ]
    }
   ],
   "execution_count": 27
  },
  {
   "cell_type": "markdown",
   "id": "ed68b682-fb52-4c2d-a172-5a76aa31395b",
   "metadata": {},
   "source": [
    "6. Count how many distinct AccountIDs there are."
   ]
  },
  {
   "cell_type": "markdown",
   "id": "754c31c5-e1d2-4387-bbe8-d156e731483a",
   "metadata": {},
   "source": [
    "Suggested Google search or ChatGPT prompt: \"how can I find out how many distinct items there are in a pandas Series using python\"\n",
    "\n",
    "This time Google provides me with a page that's specifically made to answer this question:\n",
    "\n",
    "https://www.geeksforgeeks.org/how-to-count-distinct-values-of-a-pandas-dataframe-column/"
   ]
  },
  {
   "cell_type": "code",
   "id": "3a5c497f-acca-4bea-b693-9e628ce40c8f",
   "metadata": {
    "ExecuteTime": {
     "end_time": "2025-05-13T11:44:08.399807Z",
     "start_time": "2025-05-13T11:44:08.397178Z"
    }
   },
   "source": [
    "distinct_account_ids = df_bank_datefix['AccountID'].nunique()\n",
    "print(f\"Number of distinct AccountIDs: {distinct_account_ids}\")"
   ],
   "outputs": [
    {
     "name": "stdout",
     "output_type": "stream",
     "text": [
      "Number of distinct AccountIDs: 63\n"
     ]
    }
   ],
   "execution_count": 28
  },
  {
   "cell_type": "markdown",
   "id": "85058f11-6222-4511-92f6-537be74c4807",
   "metadata": {},
   "source": [
    "7. Remove the duplicate AccountIDs so that each AccountID appears only once.\n",
    "\n",
    "This will involve using data.duplicated() but this time without keep = False.  We don't want to drop all duplicates; we want to leave one example of each value."
   ]
  },
  {
   "cell_type": "code",
   "id": "d904a7ec-a21c-498b-bd1c-1b8415a48f2a",
   "metadata": {
    "ExecuteTime": {
     "end_time": "2025-05-13T11:44:10.219638Z",
     "start_time": "2025-05-13T11:44:10.217179Z"
    }
   },
   "source": [
    "duplicate_mask = df_bank_datefix.duplicated('AccountID')\n",
    "\n",
    "# for each row where duplicate_mask == true, assign NaN\n",
    "df_bank_datefix.loc[duplicate_mask, 'AccountID'] = np.nan"
   ],
   "outputs": [],
   "execution_count": 29
  },
  {
   "cell_type": "markdown",
   "id": "a3b55f40-7b54-462c-82a5-05960d970365",
   "metadata": {},
   "source": [
    "8. What are the mean, median, and mode customer age in years?  (Rounding down to the next lower age.)\n",
    "Are there any outliers?  (Customers with very large or very small ages, compared with the other ages?)"
   ]
  },
  {
   "cell_type": "markdown",
   "id": "48b8cb00-e676-4b21-9211-06f26edf5a61",
   "metadata": {},
   "source": [
    "Suggested Google search or ChatGPT prompt: \"how can I find out the mean, median, and mode of a pandas Series\""
   ]
  },
  {
   "metadata": {
    "ExecuteTime": {
     "end_time": "2025-05-13T11:44:13.023686Z",
     "start_time": "2025-05-13T11:44:13.012469Z"
    }
   },
   "cell_type": "code",
   "source": [
    "current_date = pd.Timestamp.now()\n",
    "# divide by 365.25 to account for leap years\n",
    "df_bank_datefix['Age'] = (current_date - df_bank_datefix['BirthDate']).dt.days / 365.25\n",
    "df_bank_datefix.to_csv(\"bank_customers_with_ages.csv\", index=False)\n",
    "\n",
    "mean_age = df_bank_datefix['Age'].mean()\n",
    "median_age = df_bank_datefix['Age'].median()\n",
    "mode_age = df_bank_datefix['Age'].mode()[0]\n",
    "\n",
    "print(f\"Mean age: {mean_age:.2f} years\")\n",
    "print(f\"Median age: {median_age:.2f} years\")\n",
    "print(f\"Mode age: {mode_age:.2f} years\")\n",
    "\n",
    "std_age = df_bank_datefix['Age'].std()\n",
    "print(f\"Standard deviation of age: {std_age:.2f} years\")\n",
    "\n",
    "lower_bound = mean_age - std_age\n",
    "upper_bound = mean_age + std_age\n",
    "print(f\"Lower bound for outliers: {lower_bound:.2f} years\")\n",
    "print(f\"Upper bound for outliers: {upper_bound:.2f} years\")\n",
    "\n",
    "outliers_mask = (df_bank_datefix['Age'] < lower_bound) | (df_bank_datefix['Age'] > upper_bound)\n",
    "outliers = df_bank_datefix[outliers_mask]\n",
    "print(outliers)"
   ],
   "id": "3b7ed4b5cce00546",
   "outputs": [
    {
     "name": "stdout",
     "output_type": "stream",
     "text": [
      "Mean age: 34.92 years\n",
      "Median age: 33.79 years\n",
      "Mode age: 1.38 years\n",
      "Standard deviation of age: 19.80 years\n",
      "Lower bound for outliers: 15.12 years\n",
      "Upper bound for outliers: 54.72 years\n",
      "    CustomerID  BirthDate          SSN  AccountID AccountOpened AccountType  \\\n",
      "7          7.0 2016-06-18  593-49-1249       16.0    2087-07-24     savings   \n",
      "9          9.0 2010-12-10  844-31-4793       29.0    2048-06-01    checking   \n",
      "14        14.0 1968-06-19  058-28-9758       61.0    2002-08-04     savings   \n",
      "21        21.0 2016-02-16  972-63-5997       13.0    2077-03-09          cd   \n",
      "22        22.0 1957-12-07  550-58-6755       71.0    2016-11-20     savings   \n",
      "23        23.0 2021-12-11  939-09-9746        NaN    2071-09-01          cd   \n",
      "25        25.0 1967-01-08  973-93-1469       79.0    1989-11-06     savings   \n",
      "26        26.0 1968-12-13  239-29-2784       41.0    2028-07-28          cd   \n",
      "27        27.0 1966-07-12  450-30-8071       18.0    2023-03-16    checking   \n",
      "28        28.0 1955-12-04  863-97-2245       40.0    1996-02-08    checking   \n",
      "29        29.0 1963-11-21  085-84-6399       54.0    2021-05-09          cd   \n",
      "30        30.0 1963-04-14  168-31-0272        NaN    1970-04-19     savings   \n",
      "33        33.0 1955-02-15  986-06-7499       93.0    1967-11-11          cd   \n",
      "35        35.0 1956-11-01  470-06-0415       95.0    2031-10-28    checking   \n",
      "37        37.0 2017-07-23  991-68-0187       88.0    2094-12-17    checking   \n",
      "39        39.0 1952-01-26  810-29-3625       67.0    1983-11-04    checking   \n",
      "40        40.0 1952-03-08  291-98-5506       82.0    1953-05-05          cd   \n",
      "42        42.0 1958-10-25  705-50-4163       76.0    2036-04-28          cd   \n",
      "44        44.0 2018-06-12  275-51-1419        NaN    2095-12-10    checking   \n",
      "45        45.0 2015-04-10  931-24-3971        NaN    2078-11-23     savings   \n",
      "51        51.0 2013-03-02  038-52-1394       84.0    2014-05-09    checking   \n",
      "54        54.0 2017-09-13  403-47-1401       37.0    2066-06-21          cd   \n",
      "58        58.0 2011-10-04  770-07-1306        NaN    2050-11-27          cd   \n",
      "59        59.0 2019-06-26  119-05-0326       89.0    2065-03-29     savings   \n",
      "61        61.0 2023-03-31  040-18-6728       53.0    2068-01-17     savings   \n",
      "62        62.0 2022-08-23  719-02-2091       51.0    2090-07-02          cd   \n",
      "63        63.0 2014-08-18  396-60-6210       46.0    2077-12-30    checking   \n",
      "64        64.0 1966-06-27  566-06-7507       20.0    1977-05-08    checking   \n",
      "66        66.0 1959-10-01  929-11-8240        NaN    1962-08-06          cd   \n",
      "67        67.0 2019-05-11  392-50-0406        NaN    2036-06-20     savings   \n",
      "74        74.0 2023-01-19  086-36-1272        NaN    2093-12-24          cd   \n",
      "79        79.0 2014-09-16  628-96-2584        NaN    2067-03-24     savings   \n",
      "81        81.0 2023-12-26  299-00-8770        NaN    2029-12-29     savings   \n",
      "88        88.0 1962-02-07  327-09-3267       97.0    1989-10-03          cd   \n",
      "90        90.0 1969-06-18  395-31-7064       34.0    2010-12-28    checking   \n",
      "93        93.0 1964-05-18  596-66-1496        NaN    2023-01-01    checking   \n",
      "94        94.0 1969-03-14  958-12-8308        5.0    2037-04-03     savings   \n",
      "97        97.0 1960-09-23  773-33-2797        NaN    1993-09-16          cd   \n",
      "\n",
      "          Age  \n",
      "7    8.900753  \n",
      "9   14.422998  \n",
      "14  56.898015  \n",
      "21   9.237509  \n",
      "22  67.430527  \n",
      "23   3.419576  \n",
      "25  58.343600  \n",
      "26  56.413415  \n",
      "27  58.836413  \n",
      "28  69.440110  \n",
      "29  61.475702  \n",
      "30  62.080767  \n",
      "33  70.239562  \n",
      "35  68.528405  \n",
      "37   7.805613  \n",
      "39  73.295003  \n",
      "40  73.180014  \n",
      "42  66.548939  \n",
      "44   6.918549  \n",
      "45  10.091718  \n",
      "51  12.197125  \n",
      "54   7.663244  \n",
      "58  13.607118  \n",
      "59   5.880903  \n",
      "61   2.119097  \n",
      "62   2.721424  \n",
      "63  10.735113  \n",
      "64  58.877481  \n",
      "66  65.615332  \n",
      "67   6.006845  \n",
      "74   2.313484  \n",
      "79  10.655715  \n",
      "81   1.379877  \n",
      "88  63.260780  \n",
      "90  55.901437  \n",
      "93  60.985626  \n",
      "94  56.164271  \n",
      "97  64.635181  \n"
     ]
    }
   ],
   "execution_count": 30
  },
  {
   "cell_type": "markdown",
   "id": "b2cc3e88-aa16-4748-bf2d-b4c9672c7170",
   "metadata": {},
   "source": [
    "9. One-hot encode the AccountType column.  This means creating a new \"checking,\" \"savings\", and \"cd\" columns so that you can run machine learning algorithms."
   ]
  },
  {
   "cell_type": "code",
   "id": "3ef9c041-9c44-4130-beec-c701ca1117a8",
   "metadata": {
    "ExecuteTime": {
     "end_time": "2025-05-13T11:44:15.914670Z",
     "start_time": "2025-05-13T11:44:15.908869Z"
    }
   },
   "source": [
    "# one_hot = pd.get_dummies(df1[\"AccountType\"])\n",
    "# df2 = df2.join(one_hot)\n",
    "# df2.iloc[0:5]\n",
    "\n",
    "df_encoded = pd.get_dummies(df_bank_datefix, columns=['AccountType'], prefix=['AccountType'])\n",
    "print(df_encoded)"
   ],
   "outputs": [
    {
     "name": "stdout",
     "output_type": "stream",
     "text": [
      "    CustomerID  BirthDate          SSN  AccountID AccountOpened        Age  \\\n",
      "2          2.0 1976-12-15  377-98-9839        NaN    2019-03-25  48.407940   \n",
      "3          3.0 2003-10-18  474-05-7613       86.0    2004-03-02  21.568789   \n",
      "4          4.0 1985-12-06  750-55-5509       77.0    2059-05-05  39.433265   \n",
      "5          5.0 2008-02-29  671-43-0485       75.0    2025-05-03  17.201916   \n",
      "6          6.0 1975-04-05  288-62-9296       56.0    2048-09-21  50.105407   \n",
      "..         ...        ...          ...        ...           ...        ...   \n",
      "94        94.0 1969-03-14  958-12-8308        5.0    2037-04-03  56.164271   \n",
      "95        95.0 1975-09-23  607-97-1651       36.0    2011-07-24  49.637235   \n",
      "96        96.0 1989-03-09  870-80-0364        0.0    2054-11-01  36.177960   \n",
      "97        97.0 1960-09-23  773-33-2797        NaN    1993-09-16  64.635181   \n",
      "98        98.0 1975-08-17  846-64-7054        NaN    2032-12-25  49.738535   \n",
      "\n",
      "    AccountType_cd  AccountType_checking  AccountType_savings  \n",
      "2            False                  True                False  \n",
      "3             True                 False                False  \n",
      "4             True                 False                False  \n",
      "5            False                  True                False  \n",
      "6            False                 False                 True  \n",
      "..             ...                   ...                  ...  \n",
      "94           False                 False                 True  \n",
      "95           False                  True                False  \n",
      "96            True                 False                False  \n",
      "97            True                 False                False  \n",
      "98           False                 False                 True  \n",
      "\n",
      "[97 rows x 9 columns]\n"
     ]
    }
   ],
   "execution_count": 31
  },
  {
   "cell_type": "markdown",
   "id": "55874415-e923-4179-86ea-502458cbcd7e",
   "metadata": {},
   "source": [
    "Now, change the cd, checking, and savings columns into integers."
   ]
  },
  {
   "cell_type": "code",
   "id": "edda21a5-bb8c-4824-b320-1416dd807fc0",
   "metadata": {
    "ExecuteTime": {
     "end_time": "2025-05-13T11:44:18.084886Z",
     "start_time": "2025-05-13T11:44:18.081180Z"
    }
   },
   "source": [
    "df_encoded['AccountType_checking'] = df_encoded['AccountType_checking'].astype(int)\n",
    "df_encoded['AccountType_cd'] = df_encoded['AccountType_cd'].astype(int)\n",
    "df_encoded['AccountType_savings'] = df_encoded['AccountType_savings'].astype(int)\n",
    "\n",
    "print(df_encoded[['AccountType_checking', 'AccountType_cd', 'AccountType_savings']].head())"
   ],
   "outputs": [
    {
     "name": "stdout",
     "output_type": "stream",
     "text": [
      "   AccountType_checking  AccountType_cd  AccountType_savings\n",
      "2                     1               0                    0\n",
      "3                     0               1                    0\n",
      "4                     0               1                    0\n",
      "5                     1               0                    0\n",
      "6                     0               0                    1\n"
     ]
    }
   ],
   "execution_count": 32
  },
  {
   "cell_type": "markdown",
   "id": "5e884d3e-1d76-42a2-9b2e-86471286aa51",
   "metadata": {},
   "source": [
    "10. Are there any other data values that do not seem right?  If not, give an example?"
   ]
  },
  {
   "cell_type": "markdown",
   "id": "5c08a456-ae6d-4c79-8ca6-41f28d5cff20",
   "metadata": {},
   "source": [
    "I don't think Google or ChatGPT alone will help you here.  To answer the question, look at the columns and think about what relationships they should have with each other.  For example, it seems reasonable to expect that BirthDate would be no earlier than 120 years ago (it's unlikely that a customer would be this old.)  Now we can ask Google:\n",
    "\n",
    "\"How can I find out how long ago a pandas date is\"\n",
    "\n",
    "Google provides this helpful link, although it is not exactly the solution - you'll have to work with it a bit:\n",
    "\n",
    "https://stackoverflow.com/questions/26072087/pandas-number-of-days-elapsed-since-a-certain-date\n",
    "\n",
    "If you check, I think you'll find that all dates are more recent than 120 years ago.  What about the AccountOpened columns?  I see some obviously wrong dates there just by looking at the first few rows.\n",
    "\n",
    "Along those same lines, are there any birth dates that are too recent?  Do we think that any two year olds will have opened bank accounts?  How common do you think this is in real life?  How common is it in our data set?  Can you detect the two year olds opening bank accounts using just one column, or do you need two columns?"
   ]
  },
  {
   "metadata": {
    "ExecuteTime": {
     "end_time": "2025-05-13T11:44:21.045899Z",
     "start_time": "2025-05-13T11:44:21.039859Z"
    }
   },
   "cell_type": "code",
   "source": "df_bank_datefix.head(10)",
   "id": "1c5057c3db834335",
   "outputs": [
    {
     "data": {
      "text/plain": [
       "    CustomerID  BirthDate          SSN  AccountID AccountOpened AccountType  \\\n",
       "2          2.0 1976-12-15  377-98-9839        NaN    2019-03-25    checking   \n",
       "3          3.0 2003-10-18  474-05-7613       86.0    2004-03-02          cd   \n",
       "4          4.0 1985-12-06  750-55-5509       77.0    2059-05-05          cd   \n",
       "5          5.0 2008-02-29  671-43-0485       75.0    2025-05-03    checking   \n",
       "6          6.0 1975-04-05  288-62-9296       56.0    2048-09-21     savings   \n",
       "7          7.0 2016-06-18  593-49-1249       16.0    2087-07-24     savings   \n",
       "8          8.0 2006-10-31  121-74-2917       24.0    2046-11-17     savings   \n",
       "9          9.0 2010-12-10  844-31-4793       29.0    2048-06-01    checking   \n",
       "10        10.0 1988-08-25  857-15-1139       21.0    1998-01-04    checking   \n",
       "11        11.0 1990-11-22  509-92-0704       25.0    2036-03-17     savings   \n",
       "\n",
       "          Age  \n",
       "2   48.407940  \n",
       "3   21.568789  \n",
       "4   39.433265  \n",
       "5   17.201916  \n",
       "6   50.105407  \n",
       "7    8.900753  \n",
       "8   18.532512  \n",
       "9   14.422998  \n",
       "10  36.714579  \n",
       "11  34.472279  "
      ],
      "text/html": [
       "<div>\n",
       "<style scoped>\n",
       "    .dataframe tbody tr th:only-of-type {\n",
       "        vertical-align: middle;\n",
       "    }\n",
       "\n",
       "    .dataframe tbody tr th {\n",
       "        vertical-align: top;\n",
       "    }\n",
       "\n",
       "    .dataframe thead th {\n",
       "        text-align: right;\n",
       "    }\n",
       "</style>\n",
       "<table border=\"1\" class=\"dataframe\">\n",
       "  <thead>\n",
       "    <tr style=\"text-align: right;\">\n",
       "      <th></th>\n",
       "      <th>CustomerID</th>\n",
       "      <th>BirthDate</th>\n",
       "      <th>SSN</th>\n",
       "      <th>AccountID</th>\n",
       "      <th>AccountOpened</th>\n",
       "      <th>AccountType</th>\n",
       "      <th>Age</th>\n",
       "    </tr>\n",
       "  </thead>\n",
       "  <tbody>\n",
       "    <tr>\n",
       "      <th>2</th>\n",
       "      <td>2.0</td>\n",
       "      <td>1976-12-15</td>\n",
       "      <td>377-98-9839</td>\n",
       "      <td>NaN</td>\n",
       "      <td>2019-03-25</td>\n",
       "      <td>checking</td>\n",
       "      <td>48.407940</td>\n",
       "    </tr>\n",
       "    <tr>\n",
       "      <th>3</th>\n",
       "      <td>3.0</td>\n",
       "      <td>2003-10-18</td>\n",
       "      <td>474-05-7613</td>\n",
       "      <td>86.0</td>\n",
       "      <td>2004-03-02</td>\n",
       "      <td>cd</td>\n",
       "      <td>21.568789</td>\n",
       "    </tr>\n",
       "    <tr>\n",
       "      <th>4</th>\n",
       "      <td>4.0</td>\n",
       "      <td>1985-12-06</td>\n",
       "      <td>750-55-5509</td>\n",
       "      <td>77.0</td>\n",
       "      <td>2059-05-05</td>\n",
       "      <td>cd</td>\n",
       "      <td>39.433265</td>\n",
       "    </tr>\n",
       "    <tr>\n",
       "      <th>5</th>\n",
       "      <td>5.0</td>\n",
       "      <td>2008-02-29</td>\n",
       "      <td>671-43-0485</td>\n",
       "      <td>75.0</td>\n",
       "      <td>2025-05-03</td>\n",
       "      <td>checking</td>\n",
       "      <td>17.201916</td>\n",
       "    </tr>\n",
       "    <tr>\n",
       "      <th>6</th>\n",
       "      <td>6.0</td>\n",
       "      <td>1975-04-05</td>\n",
       "      <td>288-62-9296</td>\n",
       "      <td>56.0</td>\n",
       "      <td>2048-09-21</td>\n",
       "      <td>savings</td>\n",
       "      <td>50.105407</td>\n",
       "    </tr>\n",
       "    <tr>\n",
       "      <th>7</th>\n",
       "      <td>7.0</td>\n",
       "      <td>2016-06-18</td>\n",
       "      <td>593-49-1249</td>\n",
       "      <td>16.0</td>\n",
       "      <td>2087-07-24</td>\n",
       "      <td>savings</td>\n",
       "      <td>8.900753</td>\n",
       "    </tr>\n",
       "    <tr>\n",
       "      <th>8</th>\n",
       "      <td>8.0</td>\n",
       "      <td>2006-10-31</td>\n",
       "      <td>121-74-2917</td>\n",
       "      <td>24.0</td>\n",
       "      <td>2046-11-17</td>\n",
       "      <td>savings</td>\n",
       "      <td>18.532512</td>\n",
       "    </tr>\n",
       "    <tr>\n",
       "      <th>9</th>\n",
       "      <td>9.0</td>\n",
       "      <td>2010-12-10</td>\n",
       "      <td>844-31-4793</td>\n",
       "      <td>29.0</td>\n",
       "      <td>2048-06-01</td>\n",
       "      <td>checking</td>\n",
       "      <td>14.422998</td>\n",
       "    </tr>\n",
       "    <tr>\n",
       "      <th>10</th>\n",
       "      <td>10.0</td>\n",
       "      <td>1988-08-25</td>\n",
       "      <td>857-15-1139</td>\n",
       "      <td>21.0</td>\n",
       "      <td>1998-01-04</td>\n",
       "      <td>checking</td>\n",
       "      <td>36.714579</td>\n",
       "    </tr>\n",
       "    <tr>\n",
       "      <th>11</th>\n",
       "      <td>11.0</td>\n",
       "      <td>1990-11-22</td>\n",
       "      <td>509-92-0704</td>\n",
       "      <td>25.0</td>\n",
       "      <td>2036-03-17</td>\n",
       "      <td>savings</td>\n",
       "      <td>34.472279</td>\n",
       "    </tr>\n",
       "  </tbody>\n",
       "</table>\n",
       "</div>"
      ]
     },
     "execution_count": 33,
     "metadata": {},
     "output_type": "execute_result"
    }
   ],
   "execution_count": 33
  },
  {
   "metadata": {},
   "cell_type": "markdown",
   "source": "Yes, looking at the first 10 rows you can see some data values do not seem right. For example, customerId 7 is 8 years old which is too young to open a bank account. CustomerId 5 is 17 years old which is just under the age limit of 18 to open a bank account. I can detect two year olds opening a bank account using just the age column I've added from a previous problem. Another example is CustomerId 4 and CustomerId 6 have account opening dates in the future of 2059 and 2048 respectively.",
   "id": "84505d9cb53d4241"
  },
  {
   "cell_type": "markdown",
   "id": "63be984a-21d0-43e7-8a55-fb8a67b8a351",
   "metadata": {},
   "source": [
    "11. Use Matplotlib and/or Seaborn to analyse the ages at which customers open their account.  Is there a connection between the year they are born vs. the age at which they open the account?  Graph this in whatever way you think is best."
   ]
  },
  {
   "cell_type": "markdown",
   "id": "84574af6-9f3a-481a-843a-877388973ef2",
   "metadata": {},
   "source": [
    "I asked Google and ChatGPT: \"How can I plot dates vs. dates in Matplotlib\".  This gave me a hard time at first - I had to tell ChatGPT it was giving me the wrong information because it tried to plot dates vs. numbers.  Eventually, I found out that you plot dates vs. dates in the same way you'd plot numbers vs. numbers.\n",
    "\n",
    "Think in terms of Storytelling With Data to plot these as best you can.  Once you've seen the result, try to think of the best way to plot the data so as to show the user what you want them to see.  Title the graph so as to display the lesson that you want the user to take away.\n",
    "Here are some options for the axes:\n",
    "\n",
    "1. A scatter or line plot: On the x-axis, the date they are born.  On the y-axis, the date they open the account.\n",
    "2. A scatter or line plot: On the x-axis, the date they are born.  On the y-axis, the age in years at which they open the account.\n",
    "3. A scatter or line plot: On the x-axis, they year (integer) they are born.  On the y-axis, the age in years at which they open the account.\n",
    "4. A histogram: on the x-axis, the age at which they open the account.\n",
    "\n",
    "Here is an example:"
   ]
  },
  {
   "cell_type": "code",
   "id": "453acced-f7b1-4bb5-943d-716ae0505ace",
   "metadata": {
    "ExecuteTime": {
     "end_time": "2025-05-13T11:44:25.719712Z",
     "start_time": "2025-05-13T11:44:25.315417Z"
    }
   },
   "source": [
    "import matplotlib.pyplot as plt\n",
    "\n",
    "ax = plt.gca() # get an \"Axes\" object to draw on; gca stands for \"get current Axes\"\n",
    "ax.scatter(df_bank_datefix[\"BirthDate\"], df_bank_datefix[\"AccountOpened\"]) # create a scatter plot based on these two dates\n",
    "ax.set_ylabel(\"Account Opened\") # label the y axis\n",
    "ax.set_xlabel(\"Birth Date\") # label the x axis"
   ],
   "outputs": [
    {
     "data": {
      "text/plain": [
       "Text(0.5, 0, 'Birth Date')"
      ]
     },
     "execution_count": 34,
     "metadata": {},
     "output_type": "execute_result"
    },
    {
     "data": {
      "text/plain": [
       "<Figure size 640x480 with 1 Axes>"
      ],
      "image/png": "[encoded data removed]"
     },
     "metadata": {},
     "output_type": "display_data"
    }
   ],
   "execution_count": 34
  },
  {
   "metadata": {
    "ExecuteTime": {
     "end_time": "2025-05-13T11:44:28.180222Z",
     "start_time": "2025-05-13T11:44:28.112199Z"
    }
   },
   "cell_type": "code",
   "source": [
    "df_bank_datefix['AgeAccountOpened'] = (df_bank_datefix['AccountOpened'] - df_bank_datefix['BirthDate']).dt.days / 365.25\n",
    "\n",
    "x = df_bank_datefix['BirthDate']\n",
    "y = df_bank_datefix['AgeAccountOpened']\n",
    "\n",
    "plt.scatter(x, y)\n",
    "plt.xlabel('Birth Date')\n",
    "plt.ylabel('Age when account was opened (in years)')\n",
    "plt.title('Customers birth date vs age in years when account was opened')\n",
    "plt.show()"
   ],
   "id": "c7f33df52b878b24",
   "outputs": [
    {
     "data": {
      "text/plain": [
       "<Figure size 640x480 with 1 Axes>"
      ],
      "image/png": "[encoded data removed]"
     },
     "metadata": {},
     "output_type": "display_data"
    }
   ],
   "execution_count": 35
  },
  {
   "metadata": {},
   "cell_type": "markdown",
   "source": "My takeaway is that really there is no clear correlation between age vs when the customer's birth date.",
   "id": "ca874b5a24939d9a"
  },
  {
   "cell_type": "markdown",
   "id": "f5d2ca82-ea81-46e5-9002-8321987d08d9",
   "metadata": {},
   "source": [
    "# 4. Storytelling With Data graph"
   ]
  },
  {
   "cell_type": "markdown",
   "id": "b00e6940-4a0c-4b3e-93dd-460239bf9940",
   "metadata": {},
   "source": [
    "Choose any graph in the Introduction of Storytelling With Data.  Using matplotlib to reproduce it in a rough way.  I don't expect you to spend an enormous amount of time on this; I understand that you likely will not have time to re-create every feature of the graph.  However, if you're excited about learning to use matplotlib, this is a good way to do that.  You don't have to duplicate the exact values on the graph; just the same rough shape will be enough.  If you don't feel comfortable using matplotlib yet, do the best you can and write down what you tried or what Google searches you did to find the answers."
   ]
  },
  {
   "cell_type": "code",
   "id": "c023ff6f-f3c8-4df7-a7a6-191e70bcb362",
   "metadata": {
    "ExecuteTime": {
     "end_time": "2025-05-13T11:44:30.807830Z",
     "start_time": "2025-05-13T11:44:30.716680Z"
    }
   },
   "source": [
    "# FIGURE 0.4\n",
    "\n",
    "categories1 = ['Bored', 'Not great', 'Ok', 'Kind of interested', 'Excited']\n",
    "values1 = [11, 5, 40, 25, 19]\n",
    "df1 = pd.DataFrame({'Category': categories1, 'Value': values1})\n",
    "\n",
    "categories2 = ['Bored', 'Not great', 'Ok', 'Kind of interested', 'Excited']\n",
    "values2 = [12, 6, 14, 30, 38]\n",
    "df2 = pd.DataFrame({'Category': categories2, 'Value': values2})\n",
    "\n",
    "fig, (ax1, ax2) = plt.subplots(1, 2, figsize=(12, 6))\n",
    "\n",
    "fig.suptitle('Survey Results')\n",
    "\n",
    "ax1.pie(df1['Value'], labels=df1['Category'], autopct='%.0f%%', radius=1)\n",
    "ax1.set_title('PRE: How do you feel about doing science?')\n",
    "\n",
    "ax2.pie(df2['Value'], labels=df2['Category'], autopct='%.0f%%', radius=1)\n",
    "ax2.set_title('POST: How do you feel about doing science?')\n",
    "\n",
    "ax1.set_aspect('equal')\n",
    "ax2.set_aspect('equal')\n",
    "\n",
    "fig.tight_layout()\n",
    "\n",
    "plt.show()"
   ],
   "outputs": [
    {
     "data": {
      "text/plain": [
       "<Figure size 1200x600 with 2 Axes>"
      ],
      "image/png": "[encoded data removed]"
     },
     "metadata": {},
     "output_type": "display_data"
    }
   ],
   "execution_count": 36
  }
 ],
 "metadata": {
  "kernelspec": {
   "display_name": "Python 3 (ipykernel)",
   "language": "python",
   "name": "python3"
  },
  "language_info": {
   "codemirror_mode": {
    "name": "ipython",
    "version": 3
   },
   "file_extension": ".py",
   "mimetype": "text/x-python",
   "name": "python",
   "nbconvert_exporter": "python",
   "pygments_lexer": "ipython3",
   "version": "3.12.0"
  }
 },
 "nbformat": 4,
 "nbformat_minor": 5
}
