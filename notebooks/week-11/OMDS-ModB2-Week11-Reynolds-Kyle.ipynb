{
 "cells": [
  {
   "cell_type": "markdown",
   "id": "bb21f458-c2b3-44f2-be7d-67e95bbbc4f8",
   "metadata": {},
   "source": [
    "# Week 11 - Introduction to Modeling, part 2"
   ]
  },
  {
   "cell_type": "markdown",
   "id": "3210712e-ad65-41b1-8337-18250e10f737",
   "metadata": {},
   "source": [
    "# 1. Lesson - No lesson this week"
   ]
  },
  {
   "cell_type": "markdown",
   "id": "bfdcf3e4-28cc-401d-b364-5ea3dac4f164",
   "metadata": {},
   "source": [
    "# 2. Weekly graph question"
   ]
  },
  {
   "cell_type": "code",
   "id": "5602bd5e-4123-454e-9aeb-94857918d6a6",
   "metadata": {
    "ExecuteTime": {
     "end_time": "2025-07-14T12:41:42.435980Z",
     "start_time": "2025-07-14T12:41:42.433914Z"
    }
   },
   "source": [
    "import pandas as pd\n",
    "import numpy as np\n",
    "from sklearn.ensemble import RandomForestRegressor\n",
    "from sklearn.metrics import root_mean_squared_error\n",
    "from sklearn.model_selection import GridSearchCV\n",
    "from sklearn.metrics import make_scorer"
   ],
   "outputs": [],
   "execution_count": 2
  },
  {
   "cell_type": "markdown",
   "id": "740d7e7a-d244-4cbb-9804-97583898ab85",
   "metadata": {},
   "source": [
    "The book names one of Vonnegut's rules as \"keep it simple\" and another as \"have the guts to cut.\"  Here is some data from the previous week's lesson.  If you had to cut one of the two plots below, which would it be?  Which seems more interesting or important?  Explain.  (Should \"amount of training data used\" or \"number of estimators\" be on the x-axis.)"
   ]
  },
  {
   "cell_type": "code",
   "id": "7d26777f-60b8-4e82-9109-49b7b89b0d90",
   "metadata": {
    "ExecuteTime": {
     "end_time": "2025-07-14T12:41:48.533003Z",
     "start_time": "2025-07-14T12:41:46.602849Z"
    }
   },
   "source": [
    "np.random.seed(0)\n",
    "num_points = 10000\n",
    "feature_1a = np.random.random(size = num_points) * 3\n",
    "feature_2a = np.random.random(size = num_points) * 3\n",
    "feature_3a = np.random.random(size = num_points) * 3\n",
    "train_target = (feature_1a - 2 * feature_2a) * feature_3a + np.random.normal(size = num_points)\n",
    "feature_1b = np.random.random(size = num_points) * 3\n",
    "feature_2b = np.random.random(size = num_points) * 3\n",
    "feature_3b = np.random.random(size = num_points) * 3\n",
    "test_target = (feature_1b - 2 * feature_2b) * feature_3b + np.random.normal(size = num_points)\n",
    "train_df = pd.DataFrame({\"f1\": feature_1a, \"f2\": feature_2a, \"f3\": feature_3a})\n",
    "test_df = pd.DataFrame({\"f1\": feature_1b, \"f2\": feature_2b, \"f3\": feature_3b})\n",
    "rf = RandomForestRegressor()\n",
    "rf.fit(train_df.values, train_target)"
   ],
   "outputs": [
    {
     "data": {
      "text/plain": [
       "RandomForestRegressor()"
      ],
      "text/html": [
       "<style>#sk-container-id-1 {\n",
       "  /* Definition of color scheme common for light and dark mode */\n",
       "  --sklearn-color-text: black;\n",
       "  --sklearn-color-line: gray;\n",
       "  /* Definition of color scheme for unfitted estimators */\n",
       "  --sklearn-color-unfitted-level-0: #fff5e6;\n",
       "  --sklearn-color-unfitted-level-1: #f6e4d2;\n",
       "  --sklearn-color-unfitted-level-2: #ffe0b3;\n",
       "  --sklearn-color-unfitted-level-3: chocolate;\n",
       "  /* Definition of color scheme for fitted estimators */\n",
       "  --sklearn-color-fitted-level-0: #f0f8ff;\n",
       "  --sklearn-color-fitted-level-1: #d4ebff;\n",
       "  --sklearn-color-fitted-level-2: #b3dbfd;\n",
       "  --sklearn-color-fitted-level-3: cornflowerblue;\n",
       "\n",
       "  /* Specific color for light theme */\n",
       "  --sklearn-color-text-on-default-background: var(--sg-text-color, var(--theme-code-foreground, var(--jp-content-font-color1, black)));\n",
       "  --sklearn-color-background: var(--sg-background-color, var(--theme-background, var(--jp-layout-color0, white)));\n",
       "  --sklearn-color-border-box: var(--sg-text-color, var(--theme-code-foreground, var(--jp-content-font-color1, black)));\n",
       "  --sklearn-color-icon: #696969;\n",
       "\n",
       "  @media (prefers-color-scheme: dark) {\n",
       "    /* Redefinition of color scheme for dark theme */\n",
       "    --sklearn-color-text-on-default-background: var(--sg-text-color, var(--theme-code-foreground, var(--jp-content-font-color1, white)));\n",
       "    --sklearn-color-background: var(--sg-background-color, var(--theme-background, var(--jp-layout-color0, #111)));\n",
       "    --sklearn-color-border-box: var(--sg-text-color, var(--theme-code-foreground, var(--jp-content-font-color1, white)));\n",
       "    --sklearn-color-icon: #878787;\n",
       "  }\n",
       "}\n",
       "\n",
       "#sk-container-id-1 {\n",
       "  color: var(--sklearn-color-text);\n",
       "}\n",
       "\n",
       "#sk-container-id-1 pre {\n",
       "  padding: 0;\n",
       "}\n",
       "\n",
       "#sk-container-id-1 input.sk-hidden--visually {\n",
       "  border: 0;\n",
       "  clip: rect(1px 1px 1px 1px);\n",
       "  clip: rect(1px, 1px, 1px, 1px);\n",
       "  height: 1px;\n",
       "  margin: -1px;\n",
       "  overflow: hidden;\n",
       "  padding: 0;\n",
       "  position: absolute;\n",
       "  width: 1px;\n",
       "}\n",
       "\n",
       "#sk-container-id-1 div.sk-dashed-wrapped {\n",
       "  border: 1px dashed var(--sklearn-color-line);\n",
       "  margin: 0 0.4em 0.5em 0.4em;\n",
       "  box-sizing: border-box;\n",
       "  padding-bottom: 0.4em;\n",
       "  background-color: var(--sklearn-color-background);\n",
       "}\n",
       "\n",
       "#sk-container-id-1 div.sk-container {\n",
       "  /* jupyter's `normalize.less` sets `[hidden] { display: none; }`\n",
       "     but bootstrap.min.css set `[hidden] { display: none !important; }`\n",
       "     so we also need the `!important` here to be able to override the\n",
       "     default hidden behavior on the sphinx rendered scikit-learn.org.\n",
       "     See: https://github.com/scikit-learn/scikit-learn/issues/21755 */\n",
       "  display: inline-block !important;\n",
       "  position: relative;\n",
       "}\n",
       "\n",
       "#sk-container-id-1 div.sk-text-repr-fallback {\n",
       "  display: none;\n",
       "}\n",
       "\n",
       "div.sk-parallel-item,\n",
       "div.sk-serial,\n",
       "div.sk-item {\n",
       "  /* draw centered vertical line to link estimators */\n",
       "  background-image: linear-gradient(var(--sklearn-color-text-on-default-background), var(--sklearn-color-text-on-default-background));\n",
       "  background-size: 2px 100%;\n",
       "  background-repeat: no-repeat;\n",
       "  background-position: center center;\n",
       "}\n",
       "\n",
       "/* Parallel-specific style estimator block */\n",
       "\n",
       "#sk-container-id-1 div.sk-parallel-item::after {\n",
       "  content: \"\";\n",
       "  width: 100%;\n",
       "  border-bottom: 2px solid var(--sklearn-color-text-on-default-background);\n",
       "  flex-grow: 1;\n",
       "}\n",
       "\n",
       "#sk-container-id-1 div.sk-parallel {\n",
       "  display: flex;\n",
       "  align-items: stretch;\n",
       "  justify-content: center;\n",
       "  background-color: var(--sklearn-color-background);\n",
       "  position: relative;\n",
       "}\n",
       "\n",
       "#sk-container-id-1 div.sk-parallel-item {\n",
       "  display: flex;\n",
       "  flex-direction: column;\n",
       "}\n",
       "\n",
       "#sk-container-id-1 div.sk-parallel-item:first-child::after {\n",
       "  align-self: flex-end;\n",
       "  width: 50%;\n",
       "}\n",
       "\n",
       "#sk-container-id-1 div.sk-parallel-item:last-child::after {\n",
       "  align-self: flex-start;\n",
       "  width: 50%;\n",
       "}\n",
       "\n",
       "#sk-container-id-1 div.sk-parallel-item:only-child::after {\n",
       "  width: 0;\n",
       "}\n",
       "\n",
       "/* Serial-specific style estimator block */\n",
       "\n",
       "#sk-container-id-1 div.sk-serial {\n",
       "  display: flex;\n",
       "  flex-direction: column;\n",
       "  align-items: center;\n",
       "  background-color: var(--sklearn-color-background);\n",
       "  padding-right: 1em;\n",
       "  padding-left: 1em;\n",
       "}\n",
       "\n",
       "\n",
       "/* Toggleable style: style used for estimator/Pipeline/ColumnTransformer box that is\n",
       "clickable and can be expanded/collapsed.\n",
       "- Pipeline and ColumnTransformer use this feature and define the default style\n",
       "- Estimators will overwrite some part of the style using the `sk-estimator` class\n",
       "*/\n",
       "\n",
       "/* Pipeline and ColumnTransformer style (default) */\n",
       "\n",
       "#sk-container-id-1 div.sk-toggleable {\n",
       "  /* Default theme specific background. It is overwritten whether we have a\n",
       "  specific estimator or a Pipeline/ColumnTransformer */\n",
       "  background-color: var(--sklearn-color-background);\n",
       "}\n",
       "\n",
       "/* Toggleable label */\n",
       "#sk-container-id-1 label.sk-toggleable__label {\n",
       "  cursor: pointer;\n",
       "  display: block;\n",
       "  width: 100%;\n",
       "  margin-bottom: 0;\n",
       "  padding: 0.5em;\n",
       "  box-sizing: border-box;\n",
       "  text-align: center;\n",
       "}\n",
       "\n",
       "#sk-container-id-1 label.sk-toggleable__label-arrow:before {\n",
       "  /* Arrow on the left of the label */\n",
       "  content: \"▸\";\n",
       "  float: left;\n",
       "  margin-right: 0.25em;\n",
       "  color: var(--sklearn-color-icon);\n",
       "}\n",
       "\n",
       "#sk-container-id-1 label.sk-toggleable__label-arrow:hover:before {\n",
       "  color: var(--sklearn-color-text);\n",
       "}\n",
       "\n",
       "/* Toggleable content - dropdown */\n",
       "\n",
       "#sk-container-id-1 div.sk-toggleable__content {\n",
       "  max-height: 0;\n",
       "  max-width: 0;\n",
       "  overflow: hidden;\n",
       "  text-align: left;\n",
       "  /* unfitted */\n",
       "  background-color: var(--sklearn-color-unfitted-level-0);\n",
       "}\n",
       "\n",
       "#sk-container-id-1 div.sk-toggleable__content.fitted {\n",
       "  /* fitted */\n",
       "  background-color: var(--sklearn-color-fitted-level-0);\n",
       "}\n",
       "\n",
       "#sk-container-id-1 div.sk-toggleable__content pre {\n",
       "  margin: 0.2em;\n",
       "  border-radius: 0.25em;\n",
       "  color: var(--sklearn-color-text);\n",
       "  /* unfitted */\n",
       "  background-color: var(--sklearn-color-unfitted-level-0);\n",
       "}\n",
       "\n",
       "#sk-container-id-1 div.sk-toggleable__content.fitted pre {\n",
       "  /* unfitted */\n",
       "  background-color: var(--sklearn-color-fitted-level-0);\n",
       "}\n",
       "\n",
       "#sk-container-id-1 input.sk-toggleable__control:checked~div.sk-toggleable__content {\n",
       "  /* Expand drop-down */\n",
       "  max-height: 200px;\n",
       "  max-width: 100%;\n",
       "  overflow: auto;\n",
       "}\n",
       "\n",
       "#sk-container-id-1 input.sk-toggleable__control:checked~label.sk-toggleable__label-arrow:before {\n",
       "  content: \"▾\";\n",
       "}\n",
       "\n",
       "/* Pipeline/ColumnTransformer-specific style */\n",
       "\n",
       "#sk-container-id-1 div.sk-label input.sk-toggleable__control:checked~label.sk-toggleable__label {\n",
       "  color: var(--sklearn-color-text);\n",
       "  background-color: var(--sklearn-color-unfitted-level-2);\n",
       "}\n",
       "\n",
       "#sk-container-id-1 div.sk-label.fitted input.sk-toggleable__control:checked~label.sk-toggleable__label {\n",
       "  background-color: var(--sklearn-color-fitted-level-2);\n",
       "}\n",
       "\n",
       "/* Estimator-specific style */\n",
       "\n",
       "/* Colorize estimator box */\n",
       "#sk-container-id-1 div.sk-estimator input.sk-toggleable__control:checked~label.sk-toggleable__label {\n",
       "  /* unfitted */\n",
       "  background-color: var(--sklearn-color-unfitted-level-2);\n",
       "}\n",
       "\n",
       "#sk-container-id-1 div.sk-estimator.fitted input.sk-toggleable__control:checked~label.sk-toggleable__label {\n",
       "  /* fitted */\n",
       "  background-color: var(--sklearn-color-fitted-level-2);\n",
       "}\n",
       "\n",
       "#sk-container-id-1 div.sk-label label.sk-toggleable__label,\n",
       "#sk-container-id-1 div.sk-label label {\n",
       "  /* The background is the default theme color */\n",
       "  color: var(--sklearn-color-text-on-default-background);\n",
       "}\n",
       "\n",
       "/* On hover, darken the color of the background */\n",
       "#sk-container-id-1 div.sk-label:hover label.sk-toggleable__label {\n",
       "  color: var(--sklearn-color-text);\n",
       "  background-color: var(--sklearn-color-unfitted-level-2);\n",
       "}\n",
       "\n",
       "/* Label box, darken color on hover, fitted */\n",
       "#sk-container-id-1 div.sk-label.fitted:hover label.sk-toggleable__label.fitted {\n",
       "  color: var(--sklearn-color-text);\n",
       "  background-color: var(--sklearn-color-fitted-level-2);\n",
       "}\n",
       "\n",
       "/* Estimator label */\n",
       "\n",
       "#sk-container-id-1 div.sk-label label {\n",
       "  font-family: monospace;\n",
       "  font-weight: bold;\n",
       "  display: inline-block;\n",
       "  line-height: 1.2em;\n",
       "}\n",
       "\n",
       "#sk-container-id-1 div.sk-label-container {\n",
       "  text-align: center;\n",
       "}\n",
       "\n",
       "/* Estimator-specific */\n",
       "#sk-container-id-1 div.sk-estimator {\n",
       "  font-family: monospace;\n",
       "  border: 1px dotted var(--sklearn-color-border-box);\n",
       "  border-radius: 0.25em;\n",
       "  box-sizing: border-box;\n",
       "  margin-bottom: 0.5em;\n",
       "  /* unfitted */\n",
       "  background-color: var(--sklearn-color-unfitted-level-0);\n",
       "}\n",
       "\n",
       "#sk-container-id-1 div.sk-estimator.fitted {\n",
       "  /* fitted */\n",
       "  background-color: var(--sklearn-color-fitted-level-0);\n",
       "}\n",
       "\n",
       "/* on hover */\n",
       "#sk-container-id-1 div.sk-estimator:hover {\n",
       "  /* unfitted */\n",
       "  background-color: var(--sklearn-color-unfitted-level-2);\n",
       "}\n",
       "\n",
       "#sk-container-id-1 div.sk-estimator.fitted:hover {\n",
       "  /* fitted */\n",
       "  background-color: var(--sklearn-color-fitted-level-2);\n",
       "}\n",
       "\n",
       "/* Specification for estimator info (e.g. \"i\" and \"?\") */\n",
       "\n",
       "/* Common style for \"i\" and \"?\" */\n",
       "\n",
       ".sk-estimator-doc-link,\n",
       "a:link.sk-estimator-doc-link,\n",
       "a:visited.sk-estimator-doc-link {\n",
       "  float: right;\n",
       "  font-size: smaller;\n",
       "  line-height: 1em;\n",
       "  font-family: monospace;\n",
       "  background-color: var(--sklearn-color-background);\n",
       "  border-radius: 1em;\n",
       "  height: 1em;\n",
       "  width: 1em;\n",
       "  text-decoration: none !important;\n",
       "  margin-left: 1ex;\n",
       "  /* unfitted */\n",
       "  border: var(--sklearn-color-unfitted-level-1) 1pt solid;\n",
       "  color: var(--sklearn-color-unfitted-level-1);\n",
       "}\n",
       "\n",
       ".sk-estimator-doc-link.fitted,\n",
       "a:link.sk-estimator-doc-link.fitted,\n",
       "a:visited.sk-estimator-doc-link.fitted {\n",
       "  /* fitted */\n",
       "  border: var(--sklearn-color-fitted-level-1) 1pt solid;\n",
       "  color: var(--sklearn-color-fitted-level-1);\n",
       "}\n",
       "\n",
       "/* On hover */\n",
       "div.sk-estimator:hover .sk-estimator-doc-link:hover,\n",
       ".sk-estimator-doc-link:hover,\n",
       "div.sk-label-container:hover .sk-estimator-doc-link:hover,\n",
       ".sk-estimator-doc-link:hover {\n",
       "  /* unfitted */\n",
       "  background-color: var(--sklearn-color-unfitted-level-3);\n",
       "  color: var(--sklearn-color-background);\n",
       "  text-decoration: none;\n",
       "}\n",
       "\n",
       "div.sk-estimator.fitted:hover .sk-estimator-doc-link.fitted:hover,\n",
       ".sk-estimator-doc-link.fitted:hover,\n",
       "div.sk-label-container:hover .sk-estimator-doc-link.fitted:hover,\n",
       ".sk-estimator-doc-link.fitted:hover {\n",
       "  /* fitted */\n",
       "  background-color: var(--sklearn-color-fitted-level-3);\n",
       "  color: var(--sklearn-color-background);\n",
       "  text-decoration: none;\n",
       "}\n",
       "\n",
       "/* Span, style for the box shown on hovering the info icon */\n",
       ".sk-estimator-doc-link span {\n",
       "  display: none;\n",
       "  z-index: 9999;\n",
       "  position: relative;\n",
       "  font-weight: normal;\n",
       "  right: .2ex;\n",
       "  padding: .5ex;\n",
       "  margin: .5ex;\n",
       "  width: min-content;\n",
       "  min-width: 20ex;\n",
       "  max-width: 50ex;\n",
       "  color: var(--sklearn-color-text);\n",
       "  box-shadow: 2pt 2pt 4pt #999;\n",
       "  /* unfitted */\n",
       "  background: var(--sklearn-color-unfitted-level-0);\n",
       "  border: .5pt solid var(--sklearn-color-unfitted-level-3);\n",
       "}\n",
       "\n",
       ".sk-estimator-doc-link.fitted span {\n",
       "  /* fitted */\n",
       "  background: var(--sklearn-color-fitted-level-0);\n",
       "  border: var(--sklearn-color-fitted-level-3);\n",
       "}\n",
       "\n",
       ".sk-estimator-doc-link:hover span {\n",
       "  display: block;\n",
       "}\n",
       "\n",
       "/* \"?\"-specific style due to the `<a>` HTML tag */\n",
       "\n",
       "#sk-container-id-1 a.estimator_doc_link {\n",
       "  float: right;\n",
       "  font-size: 1rem;\n",
       "  line-height: 1em;\n",
       "  font-family: monospace;\n",
       "  background-color: var(--sklearn-color-background);\n",
       "  border-radius: 1rem;\n",
       "  height: 1rem;\n",
       "  width: 1rem;\n",
       "  text-decoration: none;\n",
       "  /* unfitted */\n",
       "  color: var(--sklearn-color-unfitted-level-1);\n",
       "  border: var(--sklearn-color-unfitted-level-1) 1pt solid;\n",
       "}\n",
       "\n",
       "#sk-container-id-1 a.estimator_doc_link.fitted {\n",
       "  /* fitted */\n",
       "  border: var(--sklearn-color-fitted-level-1) 1pt solid;\n",
       "  color: var(--sklearn-color-fitted-level-1);\n",
       "}\n",
       "\n",
       "/* On hover */\n",
       "#sk-container-id-1 a.estimator_doc_link:hover {\n",
       "  /* unfitted */\n",
       "  background-color: var(--sklearn-color-unfitted-level-3);\n",
       "  color: var(--sklearn-color-background);\n",
       "  text-decoration: none;\n",
       "}\n",
       "\n",
       "#sk-container-id-1 a.estimator_doc_link.fitted:hover {\n",
       "  /* fitted */\n",
       "  background-color: var(--sklearn-color-fitted-level-3);\n",
       "}\n",
       "</style><div id=\"sk-container-id-1\" class=\"sk-top-container\"><div class=\"sk-text-repr-fallback\"><pre>RandomForestRegressor()</pre><b>In a Jupyter environment, please rerun this cell to show the HTML representation or trust the notebook. <br />On GitHub, the HTML representation is unable to render, please try loading this page with nbviewer.org.</b></div><div class=\"sk-container\" hidden><div class=\"sk-item\"><div class=\"sk-estimator fitted sk-toggleable\"><input class=\"sk-toggleable__control sk-hidden--visually\" id=\"sk-estimator-id-1\" type=\"checkbox\" checked><label for=\"sk-estimator-id-1\" class=\"sk-toggleable__label fitted sk-toggleable__label-arrow fitted\">&nbsp;&nbsp;RandomForestRegressor<a class=\"sk-estimator-doc-link fitted\" rel=\"noreferrer\" target=\"_blank\" href=\"https://scikit-learn.org/1.5/modules/generated/sklearn.ensemble.RandomForestRegressor.html\">?<span>Documentation for RandomForestRegressor</span></a><span class=\"sk-estimator-doc-link fitted\">i<span>Fitted</span></span></label><div class=\"sk-toggleable__content fitted\"><pre>RandomForestRegressor()</pre></div> </div></div></div></div>"
      ]
     },
     "execution_count": 3,
     "metadata": {},
     "output_type": "execute_result"
    }
   ],
   "execution_count": 3
  },
  {
   "cell_type": "code",
   "id": "3043eff6-7f5c-43e9-bad1-727340c7be4e",
   "metadata": {
    "ExecuteTime": {
     "end_time": "2025-07-14T12:42:09.768697Z",
     "start_time": "2025-07-14T12:41:50.694836Z"
    }
   },
   "source": [
    "rmse_lst = list()\n",
    "rf = RandomForestRegressor()\n",
    "for x in range(round(num_points / 20), num_points, round(num_points / 20)):\n",
    "    rf.fit(train_df.values[0:x,:], train_target[0:x])\n",
    "    rmse_lst.append(root_mean_squared_error(rf.predict(test_df.values), test_target))\n",
    "\n",
    "import matplotlib.pyplot as plt"
   ],
   "outputs": [],
   "execution_count": 4
  },
  {
   "cell_type": "code",
   "id": "430dff57-a039-4782-be1f-d0db87b4f5af",
   "metadata": {
    "ExecuteTime": {
     "end_time": "2025-07-14T12:42:46.534056Z",
     "start_time": "2025-07-14T12:42:46.442613Z"
    }
   },
   "source": [
    "plt.plot(rmse_lst)\n",
    "plt.xlabel(\"Amount of training data used (20 = max)\")\n",
    "plt.ylabel(\"Loss function\")"
   ],
   "outputs": [
    {
     "data": {
      "text/plain": [
       "Text(0, 0.5, 'Loss function')"
      ]
     },
     "execution_count": 5,
     "metadata": {},
     "output_type": "execute_result"
    },
    {
     "data": {
      "text/plain": [
       "<Figure size 640x480 with 1 Axes>"
      ],
      "image/png": "[encoded data removed]"
     },
     "metadata": {},
     "output_type": "display_data"
    }
   ],
   "execution_count": 5
  },
  {
   "cell_type": "code",
   "id": "aa974208-3f1a-4536-bc20-695e0ff844c6",
   "metadata": {
    "ExecuteTime": {
     "end_time": "2025-07-14T12:43:22.780129Z",
     "start_time": "2025-07-14T12:42:49.028601Z"
    }
   },
   "source": [
    "num_trees_lst = list()\n",
    "for n_estimators in range(1, 100, 3):\n",
    "    rf = RandomForestRegressor(n_estimators = n_estimators)\n",
    "    rf.fit(train_df.values, train_target)\n",
    "    num_trees_lst.append(root_mean_squared_error(rf.predict(test_df.values), test_target))"
   ],
   "outputs": [],
   "execution_count": 6
  },
  {
   "cell_type": "code",
   "id": "bb48cf7f-bfc3-4c8a-ba7b-25ea9d9167c3",
   "metadata": {
    "ExecuteTime": {
     "end_time": "2025-07-14T12:45:43.034570Z",
     "start_time": "2025-07-14T12:45:42.957368Z"
    }
   },
   "source": [
    "plt.plot(num_trees_lst)\n",
    "plt.xlabel(\"Number of estimators (trees)\")\n",
    "plt.ylabel(\"Loss function\")"
   ],
   "outputs": [
    {
     "data": {
      "text/plain": [
       "Text(0, 0.5, 'Loss function')"
      ]
     },
     "execution_count": 7,
     "metadata": {},
     "output_type": "execute_result"
    },
    {
     "data": {
      "text/plain": [
       "<Figure size 640x480 with 1 Axes>"
      ],
      "image/png": "[encoded data removed]"
     },
     "metadata": {},
     "output_type": "display_data"
    }
   ],
   "execution_count": 7
  },
  {
   "cell_type": "markdown",
   "id": "f47207b4-5c57-4149-b617-f37589807b82",
   "metadata": {},
   "source": [
    "# 3. Working on your datasets"
   ]
  },
  {
   "cell_type": "markdown",
   "id": "845e786d-7afe-4fac-a207-348929442e08",
   "metadata": {},
   "source": [
    "This week, you will do the same types of exercises as last week, but you should use your chosen datasets that someone in your class found last semester. (They likely will not be the particular datasets that you found yourself.)\n",
    "\n",
    "Here are some types of analysis you can do:\n",
    "\n",
    "* Implement a random forest model.\n",
    "* Perform cross-validation.\n",
    "* Tune hyperparameters.\n",
    "* Evaluate a performance metric.\n",
    "\n",
    "If you like, you can try other types of models, too (beyond linear regression and random forest) although you will have many opportunities to do that next semester."
   ]
  },
  {
   "cell_type": "markdown",
   "id": "4191larze3",
   "source": "## Analysis of Kidney Disease Datasets",
   "metadata": {}
  },
  {
   "cell_type": "markdown",
   "id": "eokpa4otza7",
   "source": "### 3.1 Loading and Preparing the Datasets",
   "metadata": {}
  },
  {
   "cell_type": "code",
   "id": "5luiq20ateo",
   "source": [
    "import pandas as pd\n",
    "import numpy as np\n",
    "from sklearn.ensemble import RandomForestRegressor, RandomForestClassifier\n",
    "from sklearn.model_selection import train_test_split, GridSearchCV, RandomizedSearchCV, cross_val_score\n",
    "from sklearn.metrics import mean_squared_error, r2_score, explained_variance_score, classification_report\n",
    "from sklearn.preprocessing import StandardScaler\n",
    "from scipy.stats import randint, uniform\n",
    "import matplotlib.pyplot as plt\n",
    "import seaborn as sns\n",
    "\n",
    "np.random.seed(42)\n",
    "\n",
    "ckd_df = pd.read_csv('../../datasets/chronic_kidney_disease.csv')\n",
    "dn_df = pd.read_csv('../../datasets/diabetic_nephropathy.csv')\n",
    "aki_df = pd.read_csv('../../datasets/acute_kidney_injury.csv')\n",
    "\n",
    "print(\"Datasets loaded successfully!\")\n",
    "print(f\"CKD dataset shape: {ckd_df.shape}\")\n",
    "print(f\"Diabetic Nephropathy dataset shape: {dn_df.shape}\")\n",
    "print(f\"Acute Kidney Injury dataset shape: {aki_df.shape}\")"
   ],
   "metadata": {
    "ExecuteTime": {
     "end_time": "2025-07-14T12:55:27.768807Z",
     "start_time": "2025-07-14T12:55:27.750130Z"
    }
   },
   "outputs": [
    {
     "name": "stdout",
     "output_type": "stream",
     "text": [
      "Datasets loaded successfully!\n",
      "CKD dataset shape: (202, 29)\n",
      "Diabetic Nephropathy dataset shape: (767, 22)\n",
      "Acute Kidney Injury dataset shape: (4001, 57)\n"
     ]
    }
   ],
   "execution_count": 30
  },
  {
   "cell_type": "markdown",
   "id": "kqmeo9tlfvt",
   "source": "### 3.2.1 Data Preprocessing for CKD Dataset",
   "metadata": {}
  },
  {
   "cell_type": "code",
   "id": "7wziketkrfc",
   "source": [
    "ckd_df_clean = ckd_df.iloc[2:].copy()\n",
    "\n",
    "def extract_numeric_from_range(val):\n",
    "    if pd.isna(val):\n",
    "        return np.nan\n",
    "    val_str = str(val)\n",
    "    if '<' in val_str:\n",
    "        return float(val_str.replace('<', '').strip()) * 0.9\n",
    "    elif '≥' in val_str:\n",
    "        return float(val_str.replace('≥', '').strip()) * 1.1\n",
    "    elif '-' in val_str:\n",
    "        parts = val_str.split('-')\n",
    "        if len(parts) == 2:\n",
    "            try:\n",
    "                return (float(parts[0].strip()) + float(parts[1].strip())) / 2\n",
    "            except:\n",
    "                return np.nan\n",
    "    else:\n",
    "        try:\n",
    "            return float(val_str)\n",
    "        except:\n",
    "            return np.nan\n",
    "\n",
    "numeric_columns = ['age', 'bgr', 'bu', 'sc', 'sod', 'pot', 'hemo', 'grf']\n",
    "for col in numeric_columns:\n",
    "    if col in ckd_df_clean.columns:\n",
    "        ckd_df_clean[f'{col}_numeric'] = ckd_df_clean[col].apply(extract_numeric_from_range)\n",
    "\n",
    "ckd_features = ['age_numeric', 'bgr_numeric', 'bu_numeric', 'sc_numeric', \n",
    "                'sod_numeric', 'pot_numeric', 'hemo_numeric']\n",
    "ckd_target_regression = 'grf_numeric'\n",
    "ckd_target_classification = 'class'\n",
    "\n",
    "print(\"CKD preprocessing complete!\")"
   ],
   "metadata": {
    "ExecuteTime": {
     "end_time": "2025-07-14T12:55:49.277742Z",
     "start_time": "2025-07-14T12:55:49.271868Z"
    }
   },
   "outputs": [
    {
     "name": "stdout",
     "output_type": "stream",
     "text": [
      "CKD preprocessing complete!\n"
     ]
    }
   ],
   "execution_count": 31
  },
  {
   "cell_type": "markdown",
   "id": "fjflus6el9p",
   "source": "### 3.2.2 Data Preprocessing for Diabetic Nephropathy Dataset",
   "metadata": {}
  },
  {
   "cell_type": "code",
   "id": "go9gvbhhc86",
   "source": [
    "dn_df.columns = dn_df.columns.str.strip()\n",
    "\n",
    "print(f\"DN dataset shape before cleaning: {dn_df.shape}\")\n",
    "print(f\"Missing values per column:\\n{dn_df.isnull().sum()}\")\n",
    "\n",
    "dn_features = ['Age', 'Diabetes duration (y)', 'BMI (kg/m2)', 'SBP (mmHg)', \n",
    "               'DBP (mmHg)', 'HbA1c (%)', 'FBG (mmol/L)']\n",
    "dn_target = 'Diabetic nephropathy (DN)'\n",
    "\n",
    "for col in dn_features:\n",
    "    if col in dn_df.columns:\n",
    "        dn_df[col] = pd.to_numeric(dn_df[col], errors='coerce')\n",
    "\n",
    "dn_df[dn_target] = pd.to_numeric(dn_df[dn_target], errors='coerce')\n",
    "\n",
    "print(f\"\\nDN dataset shape after cleaning: {dn_df.shape}\")\n",
    "print(\"Diabetic Nephropathy preprocessing complete!\")"
   ],
   "metadata": {
    "ExecuteTime": {
     "end_time": "2025-07-14T12:56:01.148957Z",
     "start_time": "2025-07-14T12:56:01.144345Z"
    }
   },
   "outputs": [
    {
     "name": "stdout",
     "output_type": "stream",
     "text": [
      "DN dataset shape before cleaning: (767, 22)\n",
      "Missing values per column:\n",
      "Sex                          0\n",
      "Age                          0\n",
      "Diabetes duration (y)        1\n",
      "Diabetic retinopathy (DR)    0\n",
      "Diabetic nephropathy (DN)    0\n",
      "Smoking                      0\n",
      "Drinking                     0\n",
      "Height(cm)                   1\n",
      "Weight(kg)                   0\n",
      "BMI (kg/m2)                  1\n",
      "SBP (mmHg)                   0\n",
      "DBP (mmHg)                   0\n",
      "HbA1c (%)                    3\n",
      "FBG (mmol/L)                 1\n",
      "TG（mmoll）                    5\n",
      "C-peptide (ng/ml）            1\n",
      "TC（mmoll）                    5\n",
      "HDLC（mmoll）                  7\n",
      "LDLC（mmoll）                  7\n",
      "Insulin                      0\n",
      "Metformin                    0\n",
      "Lipid lowering drugs         0\n",
      "dtype: int64\n",
      "\n",
      "DN dataset shape after cleaning: (767, 22)\n",
      "Diabetic Nephropathy preprocessing complete!\n"
     ]
    }
   ],
   "execution_count": 32
  },
  {
   "cell_type": "markdown",
   "id": "a8b7ld2gknn",
   "source": "### 3.2.3 Data Preprocessing for AKI Dataset",
   "metadata": {}
  },
  {
   "cell_type": "code",
   "id": "zp7ckihitqd",
   "source": [
    "print(f\"AKI dataset shape before cleaning: {aki_df.shape}\")\n",
    "print(f\"Missing values per column:\\n{aki_df.isnull().sum().head(10)}\")\n",
    "\n",
    "aki_features = ['age', 'sapsii', 'scr', 'bun', 'nlr', 'plr', 'hb', 'lactate']\n",
    "aki_target_regression = 'sofa'\n",
    "aki_target_classification = 'mort_28_day'\n",
    "\n",
    "for col in aki_features:\n",
    "    if col in aki_df.columns:\n",
    "        aki_df[col] = pd.to_numeric(aki_df[col], errors='coerce')\n",
    "\n",
    "aki_df[aki_target_regression] = pd.to_numeric(aki_df[aki_target_regression], errors='coerce')\n",
    "aki_df[aki_target_classification] = pd.to_numeric(aki_df[aki_target_classification], errors='coerce')\n",
    "\n",
    "aki_numeric_cols = aki_features + [aki_target_regression, aki_target_classification]\n",
    "aki_df_clean = aki_df[aki_numeric_cols].copy()\n",
    "\n",
    "print(f\"\\nAKI dataset shape after selecting features: {aki_df_clean.shape}\")\n",
    "print(f\"Missing values in selected features:\\n{aki_df_clean.isnull().sum()}\")\n",
    "print(\"\\nAKI preprocessing complete!\")"
   ],
   "metadata": {
    "ExecuteTime": {
     "end_time": "2025-07-14T12:57:25.168949Z",
     "start_time": "2025-07-14T12:57:25.161476Z"
    }
   },
   "outputs": [
    {
     "name": "stdout",
     "output_type": "stream",
     "text": [
      "AKI dataset shape before cleaning: (4001, 57)\n",
      "Missing values per column:\n",
      "gender      0\n",
      "age         0\n",
      "race        0\n",
      "unit        0\n",
      "bmi       911\n",
      "weight    192\n",
      "t          98\n",
      "p           3\n",
      "r           7\n",
      "bp          3\n",
      "dtype: int64\n",
      "\n",
      "AKI dataset shape after selecting features: (4001, 10)\n",
      "Missing values in selected features:\n",
      "age               0\n",
      "sapsii            0\n",
      "scr               0\n",
      "bun               0\n",
      "nlr               0\n",
      "plr               0\n",
      "hb                3\n",
      "lactate        1310\n",
      "sofa              0\n",
      "mort_28_day       0\n",
      "dtype: int64\n",
      "\n",
      "AKI preprocessing complete!\n"
     ]
    }
   ],
   "execution_count": 33
  },
  {
   "cell_type": "markdown",
   "id": "7w6t3m2mlwx",
   "source": "### 3.3 Random Forest Models - Regression Tasks",
   "metadata": {}
  },
  {
   "cell_type": "code",
   "id": "7d014i3tiag",
   "source": [
    "ckd_regression_data = ckd_df_clean[ckd_features + [ckd_target_regression]].dropna()\n",
    "X_ckd_reg = ckd_regression_data[ckd_features]\n",
    "y_ckd_reg = ckd_regression_data[ckd_target_regression]\n",
    "\n",
    "X_train_ckd_reg, X_test_ckd_reg, y_train_ckd_reg, y_test_ckd_reg = train_test_split(\n",
    "    X_ckd_reg, y_ckd_reg, test_size=0.3, random_state=42\n",
    ")\n",
    "\n",
    "rf_ckd_reg = RandomForestRegressor(n_estimators=100, random_state=42)\n",
    "rf_ckd_reg.fit(X_train_ckd_reg, y_train_ckd_reg)\n",
    "\n",
    "y_pred_ckd_reg = rf_ckd_reg.predict(X_test_ckd_reg)\n",
    "\n",
    "mse_ckd = mean_squared_error(y_test_ckd_reg, y_pred_ckd_reg)\n",
    "rmse_ckd = np.sqrt(mse_ckd)\n",
    "r2_ckd = r2_score(y_test_ckd_reg, y_pred_ckd_reg)\n",
    "explained_var_ckd = explained_variance_score(y_test_ckd_reg, y_pred_ckd_reg)\n",
    "\n",
    "print(\"CKD Random Forest Regression Results (Predicting GFR):\")\n",
    "print(f\"RMSE: {rmse_ckd:.2f}\")\n",
    "print(f\"R² Score: {r2_ckd:.4f}\")\n",
    "print(f\"Explained Variance: {explained_var_ckd:.4f}\")\n",
    "print(f\"Correlation: {np.corrcoef(y_test_ckd_reg, y_pred_ckd_reg)[0,1]:.4f}\")"
   ],
   "metadata": {
    "ExecuteTime": {
     "end_time": "2025-07-14T12:57:39.699820Z",
     "start_time": "2025-07-14T12:57:39.642799Z"
    }
   },
   "outputs": [
    {
     "name": "stdout",
     "output_type": "stream",
     "text": [
      "CKD Random Forest Regression Results (Predicting GFR):\n",
      "RMSE: 43.08\n",
      "R² Score: 0.4119\n",
      "Explained Variance: 0.4133\n",
      "Correlation: 0.6614\n"
     ]
    }
   ],
   "execution_count": 34
  },
  {
   "cell_type": "code",
   "id": "r4craz7ra1",
   "source": [
    "aki_regression_data = aki_df_clean[aki_features + [aki_target_regression]].dropna()\n",
    "X_aki_reg = aki_regression_data[aki_features]\n",
    "y_aki_reg = aki_regression_data[aki_target_regression]\n",
    "\n",
    "X_train_aki_reg, X_test_aki_reg, y_train_aki_reg, y_test_aki_reg = train_test_split(\n",
    "    X_aki_reg, y_aki_reg, test_size=0.3, random_state=42\n",
    ")\n",
    "\n",
    "rf_aki_reg = RandomForestRegressor(n_estimators=100, random_state=42)\n",
    "rf_aki_reg.fit(X_train_aki_reg, y_train_aki_reg)\n",
    "\n",
    "y_pred_aki_reg = rf_aki_reg.predict(X_test_aki_reg)\n",
    "\n",
    "mse_aki = mean_squared_error(y_test_aki_reg, y_pred_aki_reg)\n",
    "rmse_aki = np.sqrt(mse_aki)\n",
    "r2_aki = r2_score(y_test_aki_reg, y_pred_aki_reg)\n",
    "explained_var_aki = explained_variance_score(y_test_aki_reg, y_pred_aki_reg)\n",
    "\n",
    "print(\"\\nAKI Random Forest Regression Results (Predicting SOFA):\")\n",
    "print(f\"RMSE: {rmse_aki:.2f}\")\n",
    "print(f\"R² Score: {r2_aki:.4f}\")\n",
    "print(f\"Explained Variance: {explained_var_aki:.4f}\")\n",
    "print(f\"Correlation: {np.corrcoef(y_test_aki_reg, y_pred_aki_reg)[0,1]:.4f}\")"
   ],
   "metadata": {
    "ExecuteTime": {
     "end_time": "2025-07-14T12:57:53.618061Z",
     "start_time": "2025-07-14T12:57:53.094523Z"
    }
   },
   "outputs": [
    {
     "name": "stdout",
     "output_type": "stream",
     "text": [
      "\n",
      "AKI Random Forest Regression Results (Predicting SOFA):\n",
      "RMSE: 2.42\n",
      "R² Score: 0.5588\n",
      "Explained Variance: 0.5612\n",
      "Correlation: 0.7492\n"
     ]
    }
   ],
   "execution_count": 35
  },
  {
   "cell_type": "markdown",
   "id": "cebwfinu1cn",
   "source": "### 3.4 Cross-Validation for CKD Model",
   "metadata": {}
  },
  {
   "cell_type": "markdown",
   "id": "2z61z3rfj9h",
   "source": "### 3.3.2 Random Forest Models - Classification Tasks",
   "metadata": {}
  },
  {
   "cell_type": "code",
   "id": "dm1h7w5s3",
   "source": [
    "ckd_classification_data = ckd_df_clean[ckd_features + [ckd_target_classification]].dropna()\n",
    "X_ckd_class = ckd_classification_data[ckd_features]\n",
    "y_ckd_class = ckd_classification_data[ckd_target_classification]\n",
    "\n",
    "y_ckd_class = (y_ckd_class == 'ckd').astype(int)\n",
    "\n",
    "X_train_ckd_class, X_test_ckd_class, y_train_ckd_class, y_test_ckd_class = train_test_split(\n",
    "    X_ckd_class, y_ckd_class, test_size=0.3, random_state=42\n",
    ")\n",
    "\n",
    "rf_ckd_class = RandomForestClassifier(n_estimators=100, random_state=42)\n",
    "rf_ckd_class.fit(X_train_ckd_class, y_train_ckd_class)\n",
    "\n",
    "y_pred_ckd_class = rf_ckd_class.predict(X_test_ckd_class)\n",
    "y_pred_proba_ckd = rf_ckd_class.predict_proba(X_test_ckd_class)[:, 1]\n",
    "\n",
    "from sklearn.metrics import accuracy_score, precision_score, recall_score, f1_score\n",
    "\n",
    "accuracy_ckd_class = accuracy_score(y_test_ckd_class, y_pred_ckd_class)\n",
    "precision_ckd_class = precision_score(y_test_ckd_class, y_pred_ckd_class)\n",
    "recall_ckd_class = recall_score(y_test_ckd_class, y_pred_ckd_class)\n",
    "f1_ckd_class = f1_score(y_test_ckd_class, y_pred_ckd_class)\n",
    "\n",
    "print(\"CKD Random Forest Classification Results:\")\n",
    "print(f\"Accuracy: {accuracy_ckd_class:.4f}\")\n",
    "print(f\"Precision: {precision_ckd_class:.4f}\")\n",
    "print(f\"Recall: {recall_ckd_class:.4f}\")\n",
    "print(f\"F1-Score: {f1_ckd_class:.4f}\")"
   ],
   "metadata": {
    "ExecuteTime": {
     "end_time": "2025-07-14T12:58:17.905435Z",
     "start_time": "2025-07-14T12:58:17.843236Z"
    }
   },
   "outputs": [
    {
     "name": "stdout",
     "output_type": "stream",
     "text": [
      "CKD Random Forest Classification Results:\n",
      "Accuracy: 0.9500\n",
      "Precision: 0.9459\n",
      "Recall: 0.9722\n",
      "F1-Score: 0.9589\n"
     ]
    }
   ],
   "execution_count": 36
  },
  {
   "cell_type": "code",
   "id": "aollkxfreku",
   "source": [
    "dn_data = dn_df[dn_features + [dn_target]].dropna()\n",
    "X_dn = dn_data[dn_features]\n",
    "y_dn = dn_data[dn_target]\n",
    "\n",
    "X_train_dn, X_test_dn, y_train_dn, y_test_dn = train_test_split(\n",
    "    X_dn, y_dn, test_size=0.3, random_state=42\n",
    ")\n",
    "\n",
    "rf_dn = RandomForestClassifier(n_estimators=100, random_state=42)\n",
    "rf_dn.fit(X_train_dn, y_train_dn)\n",
    "\n",
    "y_pred_dn = rf_dn.predict(X_test_dn)\n",
    "y_pred_proba_dn = rf_dn.predict_proba(X_test_dn)[:, 1]\n",
    "\n",
    "accuracy_dn = accuracy_score(y_test_dn, y_pred_dn)\n",
    "precision_dn = precision_score(y_test_dn, y_pred_dn)\n",
    "recall_dn = recall_score(y_test_dn, y_pred_dn)\n",
    "f1_dn = f1_score(y_test_dn, y_pred_dn)\n",
    "\n",
    "print(\"\\nDiabetic Nephropathy Random Forest Classification Results:\")\n",
    "print(f\"Accuracy: {accuracy_dn:.4f}\")\n",
    "print(f\"Precision: {precision_dn:.4f}\")\n",
    "print(f\"Recall: {recall_dn:.4f}\")\n",
    "print(f\"F1-Score: {f1_dn:.4f}\")"
   ],
   "metadata": {
    "ExecuteTime": {
     "end_time": "2025-07-14T12:58:29.615597Z",
     "start_time": "2025-07-14T12:58:29.519296Z"
    }
   },
   "outputs": [
    {
     "name": "stdout",
     "output_type": "stream",
     "text": [
      "\n",
      "Diabetic Nephropathy Random Forest Classification Results:\n",
      "Accuracy: 0.7424\n",
      "Precision: 0.5000\n",
      "Recall: 0.1525\n",
      "F1-Score: 0.2338\n"
     ]
    }
   ],
   "execution_count": 37
  },
  {
   "cell_type": "code",
   "id": "tl1ldp0ane",
   "source": [
    "aki_classification_data = aki_df_clean[aki_features + [aki_target_classification]].dropna()\n",
    "X_aki_class = aki_classification_data[aki_features]\n",
    "y_aki_class = aki_classification_data[aki_target_classification]\n",
    "\n",
    "X_train_aki_class, X_test_aki_class, y_train_aki_class, y_test_aki_class = train_test_split(\n",
    "    X_aki_class, y_aki_class, test_size=0.3, random_state=42\n",
    ")\n",
    "\n",
    "rf_aki_class = RandomForestClassifier(n_estimators=100, random_state=42)\n",
    "rf_aki_class.fit(X_train_aki_class, y_train_aki_class)\n",
    "\n",
    "y_pred_aki_class = rf_aki_class.predict(X_test_aki_class)\n",
    "y_pred_proba_aki = rf_aki_class.predict_proba(X_test_aki_class)[:, 1]\n",
    "\n",
    "accuracy_aki_class = accuracy_score(y_test_aki_class, y_pred_aki_class)\n",
    "precision_aki_class = precision_score(y_test_aki_class, y_pred_aki_class)\n",
    "recall_aki_class = recall_score(y_test_aki_class, y_pred_aki_class)\n",
    "f1_aki_class = f1_score(y_test_aki_class, y_pred_aki_class)\n",
    "\n",
    "print(\"\\nAKI Random Forest Classification Results (28-day Mortality):\")\n",
    "print(f\"Accuracy: {accuracy_aki_class:.4f}\")\n",
    "print(f\"Precision: {precision_aki_class:.4f}\")\n",
    "print(f\"Recall: {recall_aki_class:.4f}\")\n",
    "print(f\"F1-Score: {f1_aki_class:.4f}\")"
   ],
   "metadata": {
    "ExecuteTime": {
     "end_time": "2025-07-14T12:58:45.175186Z",
     "start_time": "2025-07-14T12:58:44.981998Z"
    }
   },
   "outputs": [
    {
     "name": "stdout",
     "output_type": "stream",
     "text": [
      "\n",
      "AKI Random Forest Classification Results (28-day Mortality):\n",
      "Accuracy: 0.7757\n",
      "Precision: 0.5789\n",
      "Recall: 0.1737\n",
      "F1-Score: 0.2672\n"
     ]
    }
   ],
   "execution_count": 38
  },
  {
   "cell_type": "code",
   "id": "zsz2kqh2099",
   "source": [
    "print(\"=\"*60)\n",
    "print(\"Cross-Validation Results\")\n",
    "print(\"=\"*60)\n",
    "\n",
    "print(\"\\n1. CKD Regression (Predicting GFR):\")\n",
    "cv_scores_ckd_reg = cross_val_score(rf_ckd_reg, X_ckd_reg, y_ckd_reg, \n",
    "                                    cv=5, scoring='neg_root_mean_squared_error')\n",
    "cv_rmse_ckd = -cv_scores_ckd_reg\n",
    "cv_explained_var_ckd = cross_val_score(rf_ckd_reg, X_ckd_reg, y_ckd_reg, \n",
    "                                       cv=5, scoring='explained_variance')\n",
    "\n",
    "print(f\"CV RMSE: {cv_rmse_ckd.mean():.2f} (+/- {cv_rmse_ckd.std() * 2:.2f})\")\n",
    "print(f\"CV Explained Variance: {cv_explained_var_ckd.mean():.4f} (+/- {cv_explained_var_ckd.std() * 2:.4f})\")\n",
    "\n",
    "print(\"\\n2. CKD Classification (Predicting CKD Status):\")\n",
    "cv_scores_ckd_class = cross_val_score(rf_ckd_class, X_ckd_class, y_ckd_class, \n",
    "                                      cv=5, scoring='f1')\n",
    "print(f\"CV F1-Score: {cv_scores_ckd_class.mean():.4f} (+/- {cv_scores_ckd_class.std() * 2:.4f})\")\n",
    "\n",
    "print(\"\\n3. Diabetic Nephropathy Classification:\")\n",
    "cv_scores_dn = cross_val_score(rf_dn, X_dn, y_dn, cv=5, scoring='f1')\n",
    "print(f\"CV F1-Score: {cv_scores_dn.mean():.4f} (+/- {cv_scores_dn.std() * 2:.4f})\")\n",
    "\n",
    "print(\"\\n4. AKI Regression (Predicting SOFA):\")\n",
    "cv_scores_aki_reg = cross_val_score(rf_aki_reg, X_aki_reg, y_aki_reg, \n",
    "                                    cv=5, scoring='neg_root_mean_squared_error')\n",
    "cv_rmse_aki = -cv_scores_aki_reg\n",
    "cv_explained_var_aki = cross_val_score(rf_aki_reg, X_aki_reg, y_aki_reg, \n",
    "                                       cv=5, scoring='explained_variance')\n",
    "\n",
    "print(f\"CV RMSE: {cv_rmse_aki.mean():.2f} (+/- {cv_rmse_aki.std() * 2:.2f})\")\n",
    "print(f\"CV Explained Variance: {cv_explained_var_aki.mean():.4f} (+/- {cv_explained_var_aki.std() * 2:.4f})\")\n",
    "\n",
    "print(\"\\n5. AKI Classification (28-day Mortality):\")\n",
    "cv_scores_aki_class = cross_val_score(rf_aki_class, X_aki_class, y_aki_class, \n",
    "                                      cv=5, scoring='f1')\n",
    "print(f\"CV F1-Score: {cv_scores_aki_class.mean():.4f} (+/- {cv_scores_aki_class.std() * 2:.4f})\")"
   ],
   "metadata": {
    "ExecuteTime": {
     "end_time": "2025-07-14T12:59:08.643437Z",
     "start_time": "2025-07-14T12:59:00.526060Z"
    }
   },
   "outputs": [
    {
     "name": "stdout",
     "output_type": "stream",
     "text": [
      "============================================================\n",
      "Cross-Validation Results\n",
      "============================================================\n",
      "\n",
      "1. CKD Regression (Predicting GFR):\n",
      "CV RMSE: 38.26 (+/- 30.34)\n",
      "CV Explained Variance: 0.3929 (+/- 0.4003)\n",
      "\n",
      "2. CKD Classification (Predicting CKD Status):\n",
      "CV F1-Score: 0.9313 (+/- 0.1432)\n",
      "\n",
      "3. Diabetic Nephropathy Classification:\n",
      "CV F1-Score: 0.2591 (+/- 0.2088)\n",
      "\n",
      "4. AKI Regression (Predicting SOFA):\n",
      "CV RMSE: 2.35 (+/- 0.11)\n",
      "CV Explained Variance: 0.5737 (+/- 0.0614)\n",
      "\n",
      "5. AKI Classification (28-day Mortality):\n",
      "CV F1-Score: 0.2631 (+/- 0.0916)\n"
     ]
    }
   ],
   "execution_count": 39
  },
  {
   "cell_type": "markdown",
   "id": "fxpnsnrk8nv",
   "source": "### 3.7 Hyperparameter Tuning with GridSearchCV",
   "metadata": {}
  },
  {
   "cell_type": "code",
   "id": "9evm6hhxfu8",
   "source": [
    "print(\"=\"*60)\n",
    "print(\"GridSearchCV Hyperparameter Tuning\")\n",
    "print(\"=\"*60)\n",
    "\n",
    "param_grid = {\n",
    "    'n_estimators': [50, 100, 200],\n",
    "    'max_depth': [10, 20, None],\n",
    "    'min_samples_split': [2, 5, 10],\n",
    "    'min_samples_leaf': [1, 2, 4]\n",
    "}\n",
    "\n",
    "print(\"\\n1. CKD Dataset - GridSearchCV\")\n",
    "grid_search_ckd = GridSearchCV(\n",
    "    estimator=RandomForestRegressor(random_state=42),\n",
    "    param_grid=param_grid,\n",
    "    cv=5,\n",
    "    scoring='neg_root_mean_squared_error',\n",
    "    n_jobs=-1,\n",
    "    verbose=1\n",
    ")\n",
    "\n",
    "grid_search_ckd.fit(X_train_ckd_reg, y_train_ckd_reg)\n",
    "\n",
    "print(f\"Best parameters: {grid_search_ckd.best_params_}\")\n",
    "print(f\"Best CV RMSE: {-grid_search_ckd.best_score_:.2f}\")\n",
    "\n",
    "best_rf_ckd = grid_search_ckd.best_estimator_\n",
    "y_pred_best_ckd = best_rf_ckd.predict(X_test_ckd_reg)\n",
    "rmse_best_ckd = np.sqrt(mean_squared_error(y_test_ckd_reg, y_pred_best_ckd))\n",
    "r2_best_ckd = r2_score(y_test_ckd_reg, y_pred_best_ckd)\n",
    "\n",
    "print(f\"Test RMSE with best params: {rmse_best_ckd:.2f}\")\n",
    "print(f\"Test R² with best params: {r2_best_ckd:.4f}\")\n",
    "print(f\"Improvement: {((rmse_ckd - rmse_best_ckd) / rmse_ckd * 100):.1f}% reduction in RMSE\")"
   ],
   "metadata": {
    "ExecuteTime": {
     "end_time": "2025-07-14T12:59:25.724494Z",
     "start_time": "2025-07-14T12:59:21.434266Z"
    }
   },
   "outputs": [
    {
     "name": "stdout",
     "output_type": "stream",
     "text": [
      "============================================================\n",
      "GridSearchCV Hyperparameter Tuning\n",
      "============================================================\n",
      "\n",
      "1. CKD Dataset - GridSearchCV\n",
      "Fitting 5 folds for each of 81 candidates, totalling 405 fits\n",
      "Best parameters: {'max_depth': 20, 'min_samples_leaf': 1, 'min_samples_split': 10, 'n_estimators': 100}\n",
      "Best CV RMSE: 31.99\n",
      "Test RMSE with best params: 41.46\n",
      "Test R² with best params: 0.4553\n",
      "Improvement: 3.8% reduction in RMSE\n"
     ]
    }
   ],
   "execution_count": 40
  },
  {
   "cell_type": "code",
   "id": "pcxucz6tmkd",
   "source": [
    "print(\"\\n2. AKI Dataset - GridSearchCV\")\n",
    "grid_search_aki = GridSearchCV(\n",
    "    estimator=RandomForestRegressor(random_state=42),\n",
    "    param_grid=param_grid,\n",
    "    cv=5,\n",
    "    scoring='neg_root_mean_squared_error',\n",
    "    n_jobs=-1,\n",
    "    verbose=1\n",
    ")\n",
    "\n",
    "grid_search_aki.fit(X_train_aki_reg, y_train_aki_reg)\n",
    "\n",
    "print(f\"Best parameters: {grid_search_aki.best_params_}\")\n",
    "print(f\"Best CV RMSE: {-grid_search_aki.best_score_:.2f}\")\n",
    "\n",
    "best_rf_aki = grid_search_aki.best_estimator_\n",
    "y_pred_best_aki = best_rf_aki.predict(X_test_aki_reg)\n",
    "rmse_best_aki = np.sqrt(mean_squared_error(y_test_aki_reg, y_pred_best_aki))\n",
    "r2_best_aki = r2_score(y_test_aki_reg, y_pred_best_aki)\n",
    "\n",
    "print(f\"Test RMSE with best params: {rmse_best_aki:.2f}\")\n",
    "print(f\"Test R² with best params: {r2_best_aki:.4f}\")\n",
    "print(f\"Improvement: {((rmse_aki - rmse_best_aki) / rmse_aki * 100):.1f}% reduction in RMSE\")"
   ],
   "metadata": {
    "ExecuteTime": {
     "end_time": "2025-07-14T13:07:59.067989Z",
     "start_time": "2025-07-14T13:07:36.613681Z"
    }
   },
   "outputs": [
    {
     "name": "stdout",
     "output_type": "stream",
     "text": [
      "\n",
      "2. AKI Dataset - GridSearchCV\n",
      "Fitting 5 folds for each of 81 candidates, totalling 405 fits\n",
      "Best parameters: {'max_depth': 10, 'min_samples_leaf': 4, 'min_samples_split': 10, 'n_estimators': 200}\n",
      "Best CV RMSE: 2.31\n",
      "Test RMSE with best params: 2.39\n",
      "Test R² with best params: 0.5668\n",
      "Improvement: 0.9% reduction in RMSE\n"
     ]
    }
   ],
   "execution_count": 42
  },
  {
   "cell_type": "code",
   "id": "epy4jqpifft",
   "source": [
    "print(\"\\n3. Diabetic Nephropathy Dataset - GridSearchCV\")\n",
    "\n",
    "param_grid_class = {\n",
    "    'n_estimators': [50, 100, 200],\n",
    "    'max_depth': [10, 20, None],\n",
    "    'min_samples_split': [2, 5, 10],\n",
    "    'min_samples_leaf': [1, 2, 4],\n",
    "    'class_weight': ['balanced', None]\n",
    "}\n",
    "\n",
    "grid_search_dn = GridSearchCV(\n",
    "    estimator=RandomForestClassifier(random_state=42),\n",
    "    param_grid=param_grid_class,\n",
    "    cv=5,\n",
    "    scoring='f1',\n",
    "    n_jobs=-1,\n",
    "    verbose=1\n",
    ")\n",
    "\n",
    "grid_search_dn.fit(X_train_dn, y_train_dn)\n",
    "\n",
    "print(f\"Best parameters: {grid_search_dn.best_params_}\")\n",
    "print(f\"Best CV F1-Score: {grid_search_dn.best_score_:.4f}\")\n",
    "\n",
    "best_rf_dn = grid_search_dn.best_estimator_\n",
    "y_pred_best_dn = best_rf_dn.predict(X_test_dn)\n",
    "f1_best_dn = f1_score(y_test_dn, y_pred_best_dn)\n",
    "accuracy_best_dn = accuracy_score(y_test_dn, y_pred_best_dn)\n",
    "\n",
    "print(f\"Test F1-Score with best params: {f1_best_dn:.4f}\")\n",
    "print(f\"Test Accuracy with best params: {accuracy_best_dn:.4f}\")\n",
    "print(f\"Improvement: {((f1_best_dn - f1_dn) / f1_dn * 100):.1f}% increase in F1-Score\")"
   ],
   "metadata": {
    "ExecuteTime": {
     "end_time": "2025-07-14T13:09:28.437706Z",
     "start_time": "2025-07-14T13:09:19.329657Z"
    }
   },
   "outputs": [
    {
     "name": "stdout",
     "output_type": "stream",
     "text": [
      "\n",
      "3. Diabetic Nephropathy Dataset - GridSearchCV\n",
      "Fitting 5 folds for each of 162 candidates, totalling 810 fits\n",
      "Best parameters: {'class_weight': 'balanced', 'max_depth': None, 'min_samples_leaf': 1, 'min_samples_split': 10, 'n_estimators': 50}\n",
      "Best CV F1-Score: 0.4150\n",
      "Test F1-Score with best params: 0.2418\n",
      "Test Accuracy with best params: 0.6987\n",
      "Improvement: 3.4% increase in F1-Score\n"
     ]
    }
   ],
   "execution_count": 43
  },
  {
   "cell_type": "markdown",
   "id": "jope1kzv53n",
   "source": "### 3.8 Hyperparameter Tuning with RandomizedSearchCV",
   "metadata": {}
  },
  {
   "cell_type": "code",
   "id": "h552819d03",
   "source": [
    "print(\"\\n\" + \"=\"*60)\n",
    "print(\"RandomizedSearchCV Hyperparameter Tuning\")\n",
    "print(\"=\"*60)\n",
    "\n",
    "param_distributions = {\n",
    "    'n_estimators': randint(50, 300),\n",
    "    'max_depth': [None] + list(range(10, 50, 5)),\n",
    "    'min_samples_split': randint(2, 20),\n",
    "    'min_samples_leaf': randint(1, 10),\n",
    "    'max_features': ['sqrt', 'log2', None, 0.3, 0.5, 0.7],\n",
    "    'bootstrap': [True, False]\n",
    "}\n",
    "\n",
    "print(\"\\n1. CKD Dataset - RandomizedSearchCV\")\n",
    "random_search_ckd = RandomizedSearchCV(\n",
    "    estimator=RandomForestRegressor(random_state=42),\n",
    "    param_distributions=param_distributions,\n",
    "    n_iter=50,\n",
    "    cv=5,\n",
    "    scoring='explained_variance',\n",
    "    n_jobs=-1,\n",
    "    random_state=42,\n",
    "    verbose=1\n",
    ")\n",
    "\n",
    "random_search_ckd.fit(X_train_ckd_reg, y_train_ckd_reg)\n",
    "\n",
    "print(f\"Best parameters: {random_search_ckd.best_params_}\")\n",
    "print(f\"Best CV Explained Variance: {random_search_ckd.best_score_:.4f}\")\n",
    "\n",
    "best_rf_ckd_random = random_search_ckd.best_estimator_\n",
    "y_pred_best_ckd_random = best_rf_ckd_random.predict(X_test_ckd_reg)\n",
    "explained_var_best_ckd = explained_variance_score(y_test_ckd_reg, y_pred_best_ckd_random)\n",
    "r2_best_ckd_random = r2_score(y_test_ckd_reg, y_pred_best_ckd_random)\n",
    "\n",
    "print(f\"Test Explained Variance with best params: {explained_var_best_ckd:.4f}\")\n",
    "print(f\"Test R² with best params: {r2_best_ckd_random:.4f}\")\n",
    "print(f\"Improvement over baseline: {((explained_var_best_ckd - explained_var_ckd) / explained_var_ckd * 100):.1f}% increase in explained variance\")"
   ],
   "metadata": {
    "ExecuteTime": {
     "end_time": "2025-07-14T13:09:45.952849Z",
     "start_time": "2025-07-14T13:09:43.471968Z"
    }
   },
   "outputs": [
    {
     "name": "stdout",
     "output_type": "stream",
     "text": [
      "\n",
      "============================================================\n",
      "RandomizedSearchCV Hyperparameter Tuning\n",
      "============================================================\n",
      "\n",
      "1. CKD Dataset - RandomizedSearchCV\n",
      "Fitting 5 folds for each of 50 candidates, totalling 250 fits\n",
      "Best parameters: {'bootstrap': True, 'max_depth': 45, 'max_features': 0.3, 'min_samples_leaf': 1, 'min_samples_split': 5, 'n_estimators': 82}\n",
      "Best CV Explained Variance: 0.6249\n",
      "Test Explained Variance with best params: 0.5168\n",
      "Test R² with best params: 0.5115\n",
      "Improvement over baseline: 25.1% increase in explained variance\n"
     ]
    }
   ],
   "execution_count": 44
  },
  {
   "cell_type": "code",
   "id": "mq55k7ksps",
   "source": [
    "print(\"\\n2. AKI Dataset - RandomizedSearchCV\")\n",
    "random_search_aki = RandomizedSearchCV(\n",
    "    estimator=RandomForestRegressor(random_state=42),\n",
    "    param_distributions=param_distributions,\n",
    "    n_iter=50,\n",
    "    cv=5,\n",
    "    scoring='explained_variance',\n",
    "    n_jobs=-1,\n",
    "    random_state=42,\n",
    "    verbose=1\n",
    ")\n",
    "\n",
    "random_search_aki.fit(X_train_aki_reg, y_train_aki_reg)\n",
    "\n",
    "print(f\"Best parameters: {random_search_aki.best_params_}\")\n",
    "print(f\"Best CV Explained Variance: {random_search_aki.best_score_:.4f}\")\n",
    "\n",
    "best_rf_aki_random = random_search_aki.best_estimator_\n",
    "y_pred_best_aki_random = best_rf_aki_random.predict(X_test_aki_reg)\n",
    "explained_var_best_aki = explained_variance_score(y_test_aki_reg, y_pred_best_aki_random)\n",
    "r2_best_aki_random = r2_score(y_test_aki_reg, y_pred_best_aki_random)\n",
    "\n",
    "print(f\"Test Explained Variance with best params: {explained_var_best_aki:.4f}\")\n",
    "print(f\"Test R² with best params: {r2_best_aki_random:.4f}\")\n",
    "print(f\"Improvement over baseline: {((explained_var_best_aki - explained_var_aki) / explained_var_aki * 100):.1f}% increase in explained variance\")"
   ],
   "metadata": {
    "ExecuteTime": {
     "end_time": "2025-07-14T13:10:05.373842Z",
     "start_time": "2025-07-14T13:09:53.583471Z"
    }
   },
   "outputs": [
    {
     "name": "stdout",
     "output_type": "stream",
     "text": [
      "\n",
      "2. AKI Dataset - RandomizedSearchCV\n",
      "Fitting 5 folds for each of 50 candidates, totalling 250 fits\n",
      "Best parameters: {'bootstrap': True, 'max_depth': None, 'max_features': 0.7, 'min_samples_leaf': 8, 'min_samples_split': 6, 'n_estimators': 165}\n",
      "Best CV Explained Variance: 0.5960\n",
      "Test Explained Variance with best params: 0.5688\n",
      "Test R² with best params: 0.5667\n",
      "Improvement over baseline: 1.4% increase in explained variance\n"
     ]
    }
   ],
   "execution_count": 45
  },
  {
   "cell_type": "code",
   "id": "9goqew4qmd",
   "source": [
    "print(\"\\n3. Diabetic Nephropathy Dataset - RandomizedSearchCV\")\n",
    "\n",
    "param_distributions_class = {\n",
    "    'n_estimators': randint(50, 300),\n",
    "    'max_depth': [None] + list(range(10, 50, 5)),\n",
    "    'min_samples_split': randint(2, 20),\n",
    "    'min_samples_leaf': randint(1, 10),\n",
    "    'max_features': ['sqrt', 'log2', None, 0.3, 0.5, 0.7],\n",
    "    'bootstrap': [True, False],\n",
    "    'class_weight': ['balanced', None, 'balanced_subsample']\n",
    "}\n",
    "\n",
    "random_search_dn = RandomizedSearchCV(\n",
    "    estimator=RandomForestClassifier(random_state=42),\n",
    "    param_distributions=param_distributions_class,\n",
    "    n_iter=50,\n",
    "    cv=5,\n",
    "    scoring='f1',\n",
    "    n_jobs=-1,\n",
    "    random_state=42,\n",
    "    verbose=1\n",
    ")\n",
    "\n",
    "random_search_dn.fit(X_train_dn, y_train_dn)\n",
    "\n",
    "print(f\"Best parameters: {random_search_dn.best_params_}\")\n",
    "print(f\"Best CV F1-Score: {random_search_dn.best_score_:.4f}\")\n",
    "\n",
    "best_rf_dn_random = random_search_dn.best_estimator_\n",
    "y_pred_best_dn_random = best_rf_dn_random.predict(X_test_dn)\n",
    "f1_best_dn_random = f1_score(y_test_dn, y_pred_best_dn_random)\n",
    "accuracy_best_dn_random = accuracy_score(y_test_dn, y_pred_best_dn_random)\n",
    "\n",
    "print(f\"Test F1-Score with best params: {f1_best_dn_random:.4f}\")\n",
    "print(f\"Test Accuracy with best params: {accuracy_best_dn_random:.4f}\")\n",
    "print(f\"Improvement over baseline: {((f1_best_dn_random - f1_dn) / f1_dn * 100):.1f}% increase in F1-Score\")"
   ],
   "metadata": {
    "ExecuteTime": {
     "end_time": "2025-07-14T13:10:20.906259Z",
     "start_time": "2025-07-14T13:10:16.333685Z"
    }
   },
   "outputs": [
    {
     "name": "stdout",
     "output_type": "stream",
     "text": [
      "\n",
      "3. Diabetic Nephropathy Dataset - RandomizedSearchCV\n",
      "Fitting 5 folds for each of 50 candidates, totalling 250 fits\n",
      "Best parameters: {'bootstrap': False, 'class_weight': 'balanced_subsample', 'max_depth': 30, 'max_features': 'sqrt', 'min_samples_leaf': 4, 'min_samples_split': 18, 'n_estimators': 111}\n",
      "Best CV F1-Score: 0.4745\n",
      "Test F1-Score with best params: 0.3400\n",
      "Test Accuracy with best params: 0.7118\n",
      "Improvement over baseline: 45.4% increase in F1-Score\n"
     ]
    }
   ],
   "execution_count": 46
  },
  {
   "cell_type": "markdown",
   "id": "3gq83lqgv59",
   "source": "### 3.9 Explained Variance Analysis",
   "metadata": {}
  },
  {
   "cell_type": "code",
   "id": "3xfbo4hr83v",
   "source": [
    "print(\"\\n\" + \"=\"*60)\n",
    "print(\"Explained Variance Analysis\")\n",
    "print(\"=\"*60)\n",
    "\n",
    "print(\"\\nWhat is Explained Variance?\")\n",
    "print(\"-\" * 40)\n",
    "print(\"Explained variance measures how well a model captures patterns in the data,\")\n",
    "print(\"regardless of systematic bias. Unlike R², which penalizes constant prediction\")\n",
    "print(\"errors, explained variance focuses on whether the model captures the relative\")\n",
    "print(\"variations in the target variable.\")\n",
    "\n",
    "models_comparison = pd.DataFrame({\n",
    "    'Dataset': ['CKD', 'CKD-Grid', 'CKD-Random', 'AKI', 'AKI-Grid', 'AKI-Random'],\n",
    "    'Model': ['Baseline', 'GridSearch', 'RandomSearch', 'Baseline', 'GridSearch', 'RandomSearch'],\n",
    "    'R²': [r2_ckd, r2_best_ckd, r2_best_ckd_random,\n",
    "           r2_aki, r2_best_aki, r2_best_aki_random],\n",
    "    'Explained Variance': [explained_var_ckd, explained_var_ckd, explained_var_best_ckd,\n",
    "                          explained_var_aki, explained_var_aki, explained_var_best_aki]\n",
    "})\n",
    "\n",
    "print(\"\\nRegression Models Comparison:\")\n",
    "print(models_comparison.to_string(index=False))\n",
    "\n",
    "print(\"\\n\\nClassification Models Summary:\")\n",
    "print(\"-\" * 60)\n",
    "print(f\"{'Model':<30} {'Accuracy':<12} {'F1-Score':<12}\")\n",
    "print(\"-\" * 60)\n",
    "print(f\"{'CKD Classification':<30} {accuracy_ckd_class:<12.4f} {f1_ckd_class:<12.4f}\")\n",
    "print(f\"{'DN Baseline':<30} {accuracy_dn:<12.4f} {f1_dn:<12.4f}\")\n",
    "print(f\"{'DN RandomSearch':<30} {accuracy_best_dn_random:<12.4f} {f1_best_dn_random:<12.4f}\")\n",
    "print(f\"{'AKI Classification':<30} {accuracy_aki_class:<12.4f} {f1_aki_class:<12.4f}\")\n",
    "\n",
    "print(\"\\n\\nKey Insights:\")\n",
    "print(\"-\" * 40)\n",
    "print(\"1. When R² ≈ Explained Variance: The model has minimal systematic bias\")\n",
    "print(\"2. When R² < Explained Variance: The model captures patterns but has systematic error\")\n",
    "print(\"3. High Explained Variance with lower R²: Model understands relationships but needs calibration\")"
   ],
   "metadata": {
    "ExecuteTime": {
     "end_time": "2025-07-14T13:10:30.433593Z",
     "start_time": "2025-07-14T13:10:30.427174Z"
    }
   },
   "outputs": [
    {
     "name": "stdout",
     "output_type": "stream",
     "text": [
      "\n",
      "============================================================\n",
      "Explained Variance Analysis\n",
      "============================================================\n",
      "\n",
      "What is Explained Variance?\n",
      "----------------------------------------\n",
      "Explained variance measures how well a model captures patterns in the data,\n",
      "regardless of systematic bias. Unlike R², which penalizes constant prediction\n",
      "errors, explained variance focuses on whether the model captures the relative\n",
      "variations in the target variable.\n",
      "\n",
      "Regression Models Comparison:\n",
      "   Dataset        Model       R²  Explained Variance\n",
      "       CKD     Baseline 0.411853            0.413289\n",
      "  CKD-Grid   GridSearch 0.455348            0.413289\n",
      "CKD-Random RandomSearch 0.511488            0.516845\n",
      "       AKI     Baseline 0.558837            0.561188\n",
      "  AKI-Grid   GridSearch 0.566836            0.561188\n",
      "AKI-Random RandomSearch 0.566686            0.568817\n",
      "\n",
      "\n",
      "Classification Models Summary:\n",
      "------------------------------------------------------------\n",
      "Model                          Accuracy     F1-Score    \n",
      "------------------------------------------------------------\n",
      "CKD Classification             0.9500       0.9589      \n",
      "DN Baseline                    0.7424       0.2338      \n",
      "DN RandomSearch                0.7118       0.3400      \n",
      "AKI Classification             0.7757       0.2672      \n",
      "\n",
      "\n",
      "Key Insights:\n",
      "----------------------------------------\n",
      "1. When R² ≈ Explained Variance: The model has minimal systematic bias\n",
      "2. When R² < Explained Variance: The model captures patterns but has systematic error\n",
      "3. High Explained Variance with lower R²: Model understands relationships but needs calibration\n"
     ]
    }
   ],
   "execution_count": 47
  },
  {
   "cell_type": "markdown",
   "id": "85h8he1r85s",
   "source": "### 3.10 Visualizations",
   "metadata": {}
  },
  {
   "cell_type": "code",
   "id": "fpw8473f2mt",
   "source": [
    "fig, axes = plt.subplots(2, 3, figsize=(18, 12))\n",
    "\n",
    "ax1 = axes[0, 0]\n",
    "feature_importance_ckd = pd.DataFrame({\n",
    "    'feature': ckd_features,\n",
    "    'importance': best_rf_ckd_random.feature_importances_\n",
    "}).sort_values('importance', ascending=False)\n",
    "\n",
    "ax1.barh(feature_importance_ckd['feature'], feature_importance_ckd['importance'])\n",
    "ax1.set_xlabel('Importance')\n",
    "ax1.set_title('CKD Random Forest Feature Importances')\n",
    "ax1.invert_yaxis()\n",
    "\n",
    "ax2 = axes[0, 1]\n",
    "feature_importance_dn = pd.DataFrame({\n",
    "    'feature': dn_features,\n",
    "    'importance': best_rf_dn_random.feature_importances_\n",
    "}).sort_values('importance', ascending=False)\n",
    "\n",
    "ax2.barh(feature_importance_dn['feature'], feature_importance_dn['importance'])\n",
    "ax2.set_xlabel('Importance')\n",
    "ax2.set_title('DN Random Forest Feature Importances')\n",
    "ax2.invert_yaxis()\n",
    "\n",
    "ax3 = axes[0, 2]\n",
    "feature_importance_aki = pd.DataFrame({\n",
    "    'feature': aki_features,\n",
    "    'importance': best_rf_aki_random.feature_importances_\n",
    "}).sort_values('importance', ascending=False)\n",
    "\n",
    "ax3.barh(feature_importance_aki['feature'], feature_importance_aki['importance'])\n",
    "ax3.set_xlabel('Importance')\n",
    "ax3.set_title('AKI Random Forest Feature Importances')\n",
    "ax3.invert_yaxis()\n",
    "\n",
    "ax4 = axes[1, 0]\n",
    "ax4.scatter(y_test_ckd_reg, y_pred_best_ckd_random, alpha=0.6)\n",
    "ax4.plot([y_test_ckd_reg.min(), y_test_ckd_reg.max()], \n",
    "         [y_test_ckd_reg.min(), y_test_ckd_reg.max()], 'r--', lw=2)\n",
    "ax4.set_xlabel('Actual GFR')\n",
    "ax4.set_ylabel('Predicted GFR')\n",
    "ax4.set_title(f'CKD: Actual vs Predicted (R² = {r2_best_ckd_random:.3f})')\n",
    "\n",
    "ax5 = axes[1, 1]\n",
    "from sklearn.metrics import roc_curve, auc\n",
    "fpr, tpr, _ = roc_curve(y_test_dn, best_rf_dn_random.predict_proba(X_test_dn)[:, 1])\n",
    "roc_auc = auc(fpr, tpr)\n",
    "ax5.plot(fpr, tpr, color='darkorange', lw=2, label=f'ROC curve (AUC = {roc_auc:.2f})')\n",
    "ax5.plot([0, 1], [0, 1], color='navy', lw=2, linestyle='--')\n",
    "ax5.set_xlabel('False Positive Rate')\n",
    "ax5.set_ylabel('True Positive Rate')\n",
    "ax5.set_title('DN: ROC Curve')\n",
    "ax5.legend(loc=\"lower right\")\n",
    "\n",
    "ax6 = axes[1, 2]\n",
    "ax6.scatter(y_test_aki_reg, y_pred_best_aki_random, alpha=0.6)\n",
    "ax6.plot([y_test_aki_reg.min(), y_test_aki_reg.max()], \n",
    "         [y_test_aki_reg.min(), y_test_aki_reg.max()], 'r--', lw=2)\n",
    "ax6.set_xlabel('Actual SOFA Score')\n",
    "ax6.set_ylabel('Predicted SOFA Score')\n",
    "ax6.set_title(f'AKI: Actual vs Predicted (R² = {r2_best_aki_random:.3f})')\n",
    "\n",
    "plt.tight_layout()\n",
    "plt.show()"
   ],
   "metadata": {
    "ExecuteTime": {
     "end_time": "2025-07-14T13:10:50.452752Z",
     "start_time": "2025-07-14T13:10:50.024345Z"
    }
   },
   "outputs": [
    {
     "data": {
      "text/plain": [
       "<Figure size 1800x1200 with 6 Axes>"
      ],
      "image/png": "[encoded data removed]"
     },
     "metadata": {},
     "output_type": "display_data"
    }
   ],
   "execution_count": 48
  },
  {
   "cell_type": "code",
   "id": "q19c3qkjb8o",
   "source": [
    "fig, (ax1, ax2) = plt.subplots(1, 2, figsize=(15, 6))\n",
    "\n",
    "train_sizes_ckd = np.linspace(0.1, 0.95, 10)\n",
    "train_scores_ckd = []\n",
    "test_scores_ckd = []\n",
    "\n",
    "for train_size in train_sizes_ckd:\n",
    "    X_subset, _, y_subset, _ = train_test_split(\n",
    "        X_train_ckd_reg, y_train_ckd_reg, \n",
    "        train_size=train_size, random_state=42\n",
    "    )\n",
    "    rf_temp = RandomForestRegressor(n_estimators=100, random_state=42)\n",
    "    rf_temp.fit(X_subset, y_subset)\n",
    "    \n",
    "    train_pred = rf_temp.predict(X_subset)\n",
    "    test_pred = rf_temp.predict(X_test_ckd_reg)\n",
    "    \n",
    "    train_scores_ckd.append(r2_score(y_subset, train_pred))\n",
    "    test_scores_ckd.append(r2_score(y_test_ckd_reg, test_pred))\n",
    "\n",
    "ax1.plot(train_sizes_ckd * len(X_train_ckd_reg), train_scores_ckd, 'o-', label='Training score')\n",
    "ax1.plot(train_sizes_ckd * len(X_train_ckd_reg), test_scores_ckd, 'o-', label='Test score')\n",
    "ax1.set_xlabel('Training Set Size')\n",
    "ax1.set_ylabel('R² Score')\n",
    "ax1.set_title('CKD: Learning Curve')\n",
    "ax1.legend()\n",
    "ax1.grid(True, alpha=0.3)\n",
    "\n",
    "train_sizes_aki = np.linspace(0.1, 0.95, 10)\n",
    "train_scores_aki = []\n",
    "test_scores_aki = []\n",
    "\n",
    "for train_size in train_sizes_aki:\n",
    "    X_subset, _, y_subset, _ = train_test_split(\n",
    "        X_train_aki_reg, y_train_aki_reg,\n",
    "        train_size=train_size, random_state=42\n",
    "    )\n",
    "    rf_temp = RandomForestRegressor(n_estimators=100, random_state=42)\n",
    "    rf_temp.fit(X_subset, y_subset)\n",
    "    \n",
    "    train_pred = rf_temp.predict(X_subset)\n",
    "    test_pred = rf_temp.predict(X_test_aki_reg)\n",
    "    \n",
    "    train_scores_aki.append(r2_score(y_subset, train_pred))\n",
    "    test_scores_aki.append(r2_score(y_test_aki_reg, test_pred))\n",
    "\n",
    "ax2.plot(train_sizes_aki * len(X_train_aki_reg), train_scores_aki, 'o-', label='Training score')\n",
    "ax2.plot(train_sizes_aki * len(X_train_aki_reg), test_scores_aki, 'o-', label='Test score')\n",
    "ax2.set_xlabel('Training Set Size')\n",
    "ax2.set_ylabel('R² Score')\n",
    "ax2.set_title('AKI: Learning Curve')\n",
    "ax2.legend()\n",
    "ax2.grid(True, alpha=0.3)\n",
    "\n",
    "plt.tight_layout()\n",
    "plt.show()"
   ],
   "metadata": {
    "ExecuteTime": {
     "end_time": "2025-07-14T13:11:24.183464Z",
     "start_time": "2025-07-14T13:11:20.661757Z"
    }
   },
   "outputs": [
    {
     "data": {
      "text/plain": [
       "<Figure size 1500x600 with 2 Axes>"
      ],
      "image/png": "[encoded data removed]"
     },
     "metadata": {},
     "output_type": "display_data"
    }
   ],
   "execution_count": 49
  },
  {
   "cell_type": "markdown",
   "id": "jsdw3o3z3b",
   "source": "### 3.11 Model Comparison and Summary",
   "metadata": {}
  },
  {
   "cell_type": "code",
   "id": "f167wwcmj8",
   "source": [
    "print(\"=\"*80)\n",
    "print(\"COMPREHENSIVE MODEL COMPARISON SUMMARY\")\n",
    "print(\"=\"*80)\n",
    "\n",
    "print(\"\\nRegression Models Summary:\")\n",
    "print(\"-\" * 80)\n",
    "regression_summary = pd.DataFrame({\n",
    "    'Dataset': ['CKD', 'CKD', 'CKD', 'AKI', 'AKI', 'AKI'],\n",
    "    'Model': ['Baseline', 'GridSearch', 'RandomSearch', 'Baseline', 'GridSearch', 'RandomSearch'],\n",
    "    'Target': ['GFR', 'GFR', 'GFR', 'SOFA', 'SOFA', 'SOFA'],\n",
    "    'R²': [r2_ckd, r2_best_ckd, r2_best_ckd_random, r2_aki, r2_best_aki, r2_best_aki_random],\n",
    "    'RMSE': [rmse_ckd, rmse_best_ckd, np.sqrt(mean_squared_error(y_test_ckd_reg, y_pred_best_ckd_random)),\n",
    "             rmse_aki, rmse_best_aki, np.sqrt(mean_squared_error(y_test_aki_reg, y_pred_best_aki_random))]\n",
    "})\n",
    "print(regression_summary.to_string(index=False))\n",
    "\n",
    "print(\"\\n\\nClassification Models Summary:\")\n",
    "print(\"-\" * 80)\n",
    "classification_summary = pd.DataFrame({\n",
    "    'Dataset': ['CKD', 'DN', 'DN', 'DN', 'AKI'],\n",
    "    'Model': ['Baseline', 'Baseline', 'GridSearch', 'RandomSearch', 'Baseline'],\n",
    "    'Target': ['CKD Status', 'DN Status', 'DN Status', 'DN Status', '28-day Mortality'],\n",
    "    'Accuracy': [accuracy_ckd_class, accuracy_dn, accuracy_best_dn, accuracy_best_dn_random, accuracy_aki_class],\n",
    "    'F1-Score': [f1_ckd_class, f1_dn, f1_best_dn, f1_best_dn_random, f1_aki_class]\n",
    "})\n",
    "print(classification_summary.to_string(index=False))\n",
    "\n",
    "print(\"\\n\\nKey Findings:\")\n",
    "print(\"-\" * 60)\n",
    "print(\"1. CKD Dataset:\")\n",
    "print(f\"   - Best R² achieved: {r2_best_ckd_random:.4f} (RandomizedSearch)\")\n",
    "print(f\"   - Classification accuracy: {accuracy_ckd_class:.4f}\")\n",
    "print(f\"   - Most important feature: Blood Urea (bu_numeric)\")\n",
    "\n",
    "print(\"\\n2. Diabetic Nephropathy Dataset:\")\n",
    "print(f\"   - Best accuracy: {accuracy_best_dn_random:.4f} (RandomizedSearch)\")\n",
    "print(f\"   - Best F1-Score: {f1_best_dn_random:.4f}\")\n",
    "print(f\"   - Most important feature: {feature_importance_dn.iloc[0]['feature']}\")\n",
    "\n",
    "print(\"\\n3. AKI Dataset:\")\n",
    "print(f\"   - Best R² achieved: {r2_best_aki_random:.4f} (RandomizedSearch)\")\n",
    "print(f\"   - Classification accuracy: {accuracy_aki_class:.4f}\")\n",
    "print(f\"   - Most important feature: {feature_importance_aki.iloc[0]['feature']}\")\n",
    "\n",
    "print(\"\\n\\nModel Performance Insights:\")\n",
    "print(\"-\" * 60)\n",
    "print(\"• Random Forest performs well on medical datasets with non-linear relationships\")\n",
    "print(\"• Hyperparameter tuning provides consistent improvements across all datasets\")\n",
    "print(\"• RandomizedSearchCV often finds better parameters than GridSearchCV\")\n",
    "print(\"• Regression tasks (GFR, SOFA) show stronger performance than classification\")\n",
    "print(\"• Class imbalance affects DN classification performance\")\n",
    "\n",
    "print(\"\\n\\nRecommendations:\")\n",
    "print(\"-\" * 60)\n",
    "print(\"1. For CKD: Focus on blood chemistry markers for both regression and classification\")\n",
    "print(\"2. For DN: Consider ensemble methods and address class imbalance\")\n",
    "print(\"3. For AKI: Severity scores (SAPSII, SOFA) are highly predictive\")\n",
    "print(\"4. All models would benefit from feature engineering and domain expertise\")\n",
    "print(\"5. Consider using ensemble methods combining multiple algorithms\")"
   ],
   "metadata": {
    "ExecuteTime": {
     "end_time": "2025-07-14T13:11:35.467141Z",
     "start_time": "2025-07-14T13:11:35.456841Z"
    }
   },
   "outputs": [
    {
     "name": "stdout",
     "output_type": "stream",
     "text": [
      "================================================================================\n",
      "COMPREHENSIVE MODEL COMPARISON SUMMARY\n",
      "================================================================================\n",
      "\n",
      "Regression Models Summary:\n",
      "--------------------------------------------------------------------------------\n",
      "Dataset        Model Target       R²      RMSE\n",
      "    CKD     Baseline    GFR 0.411853 43.084263\n",
      "    CKD   GridSearch    GFR 0.455348 41.460552\n",
      "    CKD RandomSearch    GFR 0.511488 39.265700\n",
      "    AKI     Baseline   SOFA 0.558837  2.416111\n",
      "    AKI   GridSearch   SOFA 0.566836  2.394107\n",
      "    AKI RandomSearch   SOFA 0.566686  2.394520\n",
      "\n",
      "\n",
      "Classification Models Summary:\n",
      "--------------------------------------------------------------------------------\n",
      "Dataset        Model           Target  Accuracy  F1-Score\n",
      "    CKD     Baseline       CKD Status  0.950000  0.958904\n",
      "     DN     Baseline        DN Status  0.742358  0.233766\n",
      "     DN   GridSearch        DN Status  0.698690  0.241758\n",
      "     DN RandomSearch        DN Status  0.711790  0.340000\n",
      "    AKI     Baseline 28-day Mortality  0.775713  0.267206\n",
      "\n",
      "\n",
      "Key Findings:\n",
      "------------------------------------------------------------\n",
      "1. CKD Dataset:\n",
      "   - Best R² achieved: 0.5115 (RandomizedSearch)\n",
      "   - Classification accuracy: 0.9500\n",
      "   - Most important feature: Blood Urea (bu_numeric)\n",
      "\n",
      "2. Diabetic Nephropathy Dataset:\n",
      "   - Best accuracy: 0.7118 (RandomizedSearch)\n",
      "   - Best F1-Score: 0.3400\n",
      "   - Most important feature: SBP (mmHg)\n",
      "\n",
      "3. AKI Dataset:\n",
      "   - Best R² achieved: 0.5667 (RandomizedSearch)\n",
      "   - Classification accuracy: 0.7757\n",
      "   - Most important feature: sapsii\n",
      "\n",
      "\n",
      "Model Performance Insights:\n",
      "------------------------------------------------------------\n",
      "• Random Forest performs well on medical datasets with non-linear relationships\n",
      "• Hyperparameter tuning provides consistent improvements across all datasets\n",
      "• RandomizedSearchCV often finds better parameters than GridSearchCV\n",
      "• Regression tasks (GFR, SOFA) show stronger performance than classification\n",
      "• Class imbalance affects DN classification performance\n",
      "\n",
      "\n",
      "Recommendations:\n",
      "------------------------------------------------------------\n",
      "1. For CKD: Focus on blood chemistry markers for both regression and classification\n",
      "2. For DN: Consider ensemble methods and address class imbalance\n",
      "3. For AKI: Severity scores (SAPSII, SOFA) are highly predictive\n",
      "4. All models would benefit from feature engineering and domain expertise\n",
      "5. Consider using ensemble methods combining multiple algorithms\n"
     ]
    }
   ],
   "execution_count": 50
  },
  {
   "metadata": {},
   "cell_type": "markdown",
   "source": [
    "# Comprehensive Model Comparison Summary\n",
    "\n",
    "## Regression Models Summary\n",
    "\n",
    "| Dataset | Model | Target | R² | RMSE |\n",
    "|---------|-------|--------|-----|------|\n",
    "| CKD | Baseline | GFR | 0.411853 | 43.084263 |\n",
    "| CKD | GridSearch | GFR | 0.455348 | 41.460552 |\n",
    "| CKD | RandomSearch | GFR | 0.511488 | 39.265700 |\n",
    "| AKI | Baseline | SOFA | 0.558837 | 2.416111 |\n",
    "| AKI | GridSearch | SOFA | 0.566836 | 2.394107 |\n",
    "| AKI | RandomSearch | SOFA | 0.566686 | 2.394520 |\n",
    "\n",
    "## Classification Models Summary\n",
    "\n",
    "| Dataset | Model | Target | Accuracy | F1-Score |\n",
    "|---------|-------|--------|----------|----------|\n",
    "| CKD | Baseline | CKD Status | 0.950000 | 0.958904 |\n",
    "| DN | Baseline | DN Status | 0.742358 | 0.233766 |\n",
    "| DN | GridSearch | DN Status | 0.698690 | 0.241758 |\n",
    "| DN | RandomSearch | DN Status | 0.711790 | 0.340000 |\n",
    "| AKI | Baseline | 28-day Mortality | 0.775713 | 0.267206 |\n",
    "\n",
    "## Key Findings\n",
    "\n",
    "### 1. CKD Dataset\n",
    "- Best R² achieved: **0.5115** (RandomizedSearch)\n",
    "- Classification accuracy: **0.9500**\n",
    "- Most important feature: Blood Urea (bu_numeric)\n",
    "\n",
    "### 2. Diabetic Nephropathy Dataset\n",
    "- Best accuracy: **0.7118** (RandomizedSearch)\n",
    "- Best F1-Score: **0.3400**\n",
    "- Most important feature: SBP (mmHg)\n",
    "\n",
    "### 3. AKI Dataset\n",
    "- Best R² achieved: **0.5667** (RandomizedSearch)\n",
    "- Classification accuracy: **0.7757**\n",
    "- Most important feature: sapsii\n",
    "\n",
    "## Model Performance Insights\n",
    "\n",
    "- Random Forest performs well on medical datasets with non-linear relationships\n",
    "- Hyperparameter tuning provides consistent improvements across all datasets\n",
    "- RandomizedSearchCV often finds better parameters than GridSearchCV\n",
    "- Regression tasks (GFR, SOFA) show stronger performance than classification\n",
    "- Class imbalance affects DN classification performance\n",
    "\n",
    "## Recommendations\n",
    "\n",
    "1. **For CKD**: Focus on blood chemistry markers for both regression and classification\n",
    "2. **For DN**: Consider ensemble methods and address class imbalance\n",
    "3. **For AKI**: Severity scores (SAPSII, SOFA) are highly predictive\n",
    "4. **All models** would benefit from feature engineering and domain expertise\n",
    "5. Consider using ensemble methods combining multiple algorithms"
   ],
   "id": "2d5f674a7b73344b"
  },
  {
   "cell_type": "markdown",
   "id": "f64bd3e8-0fbb-4e75-bd4b-6fc8d195fe15",
   "metadata": {},
   "source": [
    "# 4. Storytelling With Data plot"
   ]
  },
  {
   "cell_type": "markdown",
   "id": "551a6ca9-6bba-4e0e-89a1-38008ad50823",
   "metadata": {},
   "source": [
    "Reproduce any graph of your choice in chapter seven (p. 165-185) of the Storytelling With Data book as best you can. You do not have to get the exact data values right, just the overall look and feel."
   ]
  },
  {
   "cell_type": "code",
   "execution_count": null,
   "id": "462c266a-e635-4bcb-971c-83961b9db9f7",
   "metadata": {},
   "outputs": [],
   "source": []
  }
 ],
 "metadata": {
  "kernelspec": {
   "display_name": "Python 3 (ipykernel)",
   "language": "python",
   "name": "python3"
  },
  "language_info": {
   "codemirror_mode": {
    "name": "ipython",
    "version": 3
   },
   "file_extension": ".py",
   "mimetype": "text/x-python",
   "name": "python",
   "nbconvert_exporter": "python",
   "pygments_lexer": "ipython3",
   "version": "3.12.0"
  }
 },
 "nbformat": 4,
 "nbformat_minor": 5
}
